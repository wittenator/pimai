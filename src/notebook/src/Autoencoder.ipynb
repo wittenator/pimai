{
  "nbformat": 4,
  "nbformat_minor": 0,
  "metadata": {
    "kernelspec": {
      "name": "python3",
      "display_name": "Python 3"
    },
    "language_info": {
      "codemirror_mode": {
        "name": "ipython",
        "version": 3
      },
      "file_extension": ".py",
      "mimetype": "text/x-python",
      "name": "python",
      "nbconvert_exporter": "python",
      "pygments_lexer": "ipython3",
      "version": "3.6.9"
    },
    "colab": {
      "name": "Autoencoder.ipynb",
      "provenance": [],
      "include_colab_link": true
    },
    "accelerator": "GPU"
  },
  "cells": [
    {
      "cell_type": "markdown",
      "metadata": {
        "id": "view-in-github",
        "colab_type": "text"
      },
      "source": [
        "<a href=\"https://colab.research.google.com/github/wittenator/pimai/blob/master/src/notebook/src/Autoencoder.ipynb\" target=\"_parent\"><img src=\"https://colab.research.google.com/assets/colab-badge.svg\" alt=\"Open In Colab\"/></a>"
      ]
    },
    {
      "cell_type": "code",
      "metadata": {
        "id": "90gWsaxMXxiK",
        "colab_type": "code",
        "colab": {
          "base_uri": "https://localhost:8080/",
          "height": 278
        },
        "outputId": "2c3ef896-1ab0-4493-bec2-3a7346119639"
      },
      "source": [
        "try:\n",
        "  from google.colab import files\n",
        "  !pip install torch torchvision skorch\n",
        "  !pip install hypertools\n",
        "  colab = True\n",
        "except:\n",
        "  pass"
      ],
      "execution_count": 4,
      "outputs": [
        {
          "output_type": "stream",
          "text": [
            "Requirement already satisfied: torch in /usr/local/lib/python3.6/dist-packages (1.3.1)\n",
            "Requirement already satisfied: torchvision in /usr/local/lib/python3.6/dist-packages (0.4.2)\n",
            "Collecting skorch\n",
            "\u001b[?25l  Downloading https://files.pythonhosted.org/packages/fb/1e/cc4e1f23cd1faab06672f309e0857294aaa80c5f84670f4d3d19b08ab10b/skorch-0.7.0-py3-none-any.whl (105kB)\n",
            "\u001b[K     |████████████████████████████████| 112kB 2.8MB/s \n",
            "\u001b[?25hRequirement already satisfied: numpy in /usr/local/lib/python3.6/dist-packages (from torch) (1.17.5)\n",
            "Requirement already satisfied: pillow>=4.1.1 in /usr/local/lib/python3.6/dist-packages (from torchvision) (6.2.2)\n",
            "Requirement already satisfied: six in /usr/local/lib/python3.6/dist-packages (from torchvision) (1.12.0)\n",
            "Requirement already satisfied: scikit-learn>=0.19.1 in /usr/local/lib/python3.6/dist-packages (from skorch) (0.22.1)\n",
            "Requirement already satisfied: tqdm>=4.14.0 in /usr/local/lib/python3.6/dist-packages (from skorch) (4.28.1)\n",
            "Requirement already satisfied: tabulate>=0.7.7 in /usr/local/lib/python3.6/dist-packages (from skorch) (0.8.6)\n",
            "Requirement already satisfied: scipy>=1.1.0 in /usr/local/lib/python3.6/dist-packages (from skorch) (1.4.1)\n",
            "Requirement already satisfied: joblib>=0.11 in /usr/local/lib/python3.6/dist-packages (from scikit-learn>=0.19.1->skorch) (0.14.1)\n",
            "Installing collected packages: skorch\n",
            "Successfully installed skorch-0.7.0\n"
          ],
          "name": "stdout"
        }
      ]
    },
    {
      "cell_type": "code",
      "metadata": {
        "id": "0TPMgseDXxiZ",
        "colab_type": "code",
        "colab": {
          "base_uri": "https://localhost:8080/",
          "height": 69
        },
        "outputId": "07469cc0-e9bb-44ca-ebe4-949d8337e5bd"
      },
      "source": [
        "from __future__ import print_function\n",
        "import argparse\n",
        "import torch\n",
        "import torch.nn as nn\n",
        "import torch.nn.functional as F\n",
        "import torch.optim as optim\n",
        "import torchvision\n",
        "from torchvision import datasets, transforms\n",
        "from torch.optim.lr_scheduler import StepLR\n",
        "from datetime import datetime\n",
        "\n",
        "from multiprocessing import cpu_count\n",
        "\n",
        "from torch.utils.tensorboard import SummaryWriter\n",
        "from torch.utils.data import Subset, DataLoader\n",
        "\n",
        "from torch.distributions import *\n",
        "\n",
        "import skorch\n",
        "import numpy as np\n",
        "import hypertools as hyp\n",
        "\n",
        "%load_ext tensorboard\n",
        "%matplotlib inline\n",
        "torch.autograd.set_detect_anomaly(True)"
      ],
      "execution_count": 8,
      "outputs": [
        {
          "output_type": "stream",
          "text": [
            "/usr/local/lib/python3.6/dist-packages/hypertools/plot/__init__.py:10: UserWarning: Could not switch backend to TkAgg.  This may impact performance of the plotting functions.\n",
            "  warnings.warn('Could not switch backend to TkAgg.  This may impact performance of the plotting functions.')\n"
          ],
          "name": "stderr"
        },
        {
          "output_type": "execute_result",
          "data": {
            "text/plain": [
              "<torch.autograd.anomaly_mode.set_detect_anomaly at 0x7f5e7f2fd550>"
            ]
          },
          "metadata": {
            "tags": []
          },
          "execution_count": 8
        }
      ]
    },
    {
      "cell_type": "markdown",
      "metadata": {
        "id": "xaYNKNJqXxip",
        "colab_type": "text"
      },
      "source": [
        "## Dataset"
      ]
    },
    {
      "cell_type": "code",
      "metadata": {
        "id": "koWH_sFdXxit",
        "colab_type": "code",
        "colab": {}
      },
      "source": [
        "use_cuda = torch.cuda.is_available()\n",
        "\n",
        "device = torch.device(\"cuda\" if use_cuda else \"cpu\")\n",
        "\n",
        "kwargs = {'num_workers': cpu_count(), 'pin_memory': True} if use_cuda else {}\n",
        "if not colab:\n",
        "  train_loader = DataLoader(Subset(\n",
        "      datasets.MNIST('/data', train=True, download=True,\n",
        "                    transform=transforms.Compose([\n",
        "                        transforms.ToTensor(),\n",
        "                        transforms.Normalize((0.1307,), (0.3081,))\n",
        "                    ])), indices=range(10000)),\n",
        "      batch_size=64, shuffle=True, **kwargs)\n",
        "  test_loader = DataLoader(Subset(\n",
        "      datasets.MNIST('/data', train=False, transform=transforms.Compose([\n",
        "                        transforms.ToTensor(),\n",
        "                        transforms.Normalize((0.1307,), (0.3081,))\n",
        "                    ])), indices=range(10000)),\n",
        "      batch_size=1000, shuffle=True, **kwargs)\n",
        "else:\n",
        "  train_loader = DataLoader(\n",
        "      datasets.MNIST('/data', train=True, download=True,\n",
        "                    transform=transforms.Compose([\n",
        "                        transforms.ToTensor(),\n",
        "                        transforms.Normalize((0.1307,), (0.3081,))\n",
        "                    ])),\n",
        "      batch_size=128, shuffle=True, **kwargs)\n",
        "  test_loader = DataLoader(\n",
        "      datasets.MNIST('/data', train=False, transform=transforms.Compose([\n",
        "                        transforms.ToTensor(),\n",
        "                        transforms.Normalize((0.1307,), (0.3081,))\n",
        "                    ])),\n",
        "      batch_size=1000, shuffle=True, **kwargs)\n"
      ],
      "execution_count": 0,
      "outputs": []
    },
    {
      "cell_type": "markdown",
      "metadata": {
        "id": "dbmJnimKXxi3",
        "colab_type": "text"
      },
      "source": [
        "## Generic autoencoder class"
      ]
    },
    {
      "cell_type": "code",
      "metadata": {
        "id": "9vnseljiXxi6",
        "colab_type": "code",
        "colab": {}
      },
      "source": [
        "class Autoencoder(nn.Module):\n",
        "    def __init__(self):\n",
        "        super(Autoencoder, self).__init__()\n",
        "        now = datetime.now()\n",
        "        current_time = now.strftime(\"%Y%m%d-%H%M%S\")\n",
        "        self.writer = SummaryWriter(log_dir=\"/data/runs/\"+current_time)\n",
        "        self.embeddings = []\n",
        "        self.embedding_labels =[]\n",
        "    \n",
        "    def trains(self, device, train_loader, optimizer, epoch):\n",
        "        self.train()\n",
        "        loss_sum = 0\n",
        "        for batch_idx, (data, target) in enumerate(train_loader):\n",
        "            data, target = data.to(device), target.to(device)\n",
        "            optimizer.zero_grad()\n",
        "            loss = self.compute_loss_train(data, target)\n",
        "            loss.backward()\n",
        "            optimizer.step()\n",
        "            loss_sum += loss.item()\n",
        "            if batch_idx % 10 == 0:\n",
        "                print('Train Epoch: {} [{}/{} ({:.0f}%)]\\tLoss: {:.6f}'.format(\n",
        "                    epoch, batch_idx * len(data), len(train_loader.dataset),\n",
        "                    100. * batch_idx / len(train_loader), loss.item()))\n",
        "            self.writer.add_scalar('Loss/train', loss.item(), epoch*len(train_loader)+batch_idx)\n",
        "            \n",
        "    def tests(self, device, test_loader):\n",
        "        self.eval()\n",
        "        test_loss = 0\n",
        "        correct = 0\n",
        "        with torch.no_grad():\n",
        "            for data, target in test_loader:\n",
        "                data, target = data.to(device), target.to(device)\n",
        "                loss, output = self.compute_loss_test(data, target)\n",
        "                test_loss += loss\n",
        "                l1 = F.l1_loss(output, data.view(-1, 784), reduction='sum')\n",
        "\n",
        "        test_loss /= len(test_loader.dataset)\n",
        "\n",
        "        print('\\nTest set: Average loss: {:.4f}, Reconstruction error: {}\\n'.format(\n",
        "            test_loss, l1))\n",
        "        \n",
        "    def add_embedding(self, loader):\n",
        "        with torch.no_grad():\n",
        "            labels = []\n",
        "            embs = []\n",
        "            for data, label in loader:\n",
        "                data, label = data.to(device), label.to(device)\n",
        "                labels.append(label)\n",
        "                recon_batch, a, b = self(data)\n",
        "                emb = self.reparameterize(a,b)\n",
        "                embs.append(emb)\n",
        "            print(type(tuple(embs)))\n",
        "            self.embeddings.append(torch.cat(tuple(embs), dim=0).cpu().numpy())\n",
        "            self.embedding_labels = torch.cat(tuple(labels), dim=0).cpu().numpy()\n",
        "            \n",
        "    def visualize_embeddings(self, epoch):\n",
        "        hyp.plot(self.embeddings[epoch], '.', hue=self.embedding_labels, reduce='TSNE', ndims=2, save_path=f'/data/visualizations/{self.__class__.__name__}-{datetime.now().strftime(\"%Y%m%d-%H%M%S\")}.svg' if not colab else None)"
      ],
      "execution_count": 0,
      "outputs": []
    },
    {
      "cell_type": "markdown",
      "metadata": {
        "id": "Ca_SLALTXxjC",
        "colab_type": "text"
      },
      "source": [
        "## Autoencoder"
      ]
    },
    {
      "cell_type": "code",
      "metadata": {
        "id": "3qKCWvCFXxjF",
        "colab_type": "code",
        "colab": {}
      },
      "source": [
        "class SimpleAutoencoder(Autoencoder):\n",
        "    def __init__(self):\n",
        "        super(SimpleAutoencoder, self).__init__()\n",
        "        self.conv1 = nn.Conv2d(1, 32, 3, 1)\n",
        "        self.conv2 = nn.Conv2d(32, 64, 3, 1)\n",
        "        self.dropout1 = nn.Dropout2d(0.25)\n",
        "        self.dropout2 = nn.Dropout2d(0.5)\n",
        "        self.fc1 = nn.Linear(9216, 128)\n",
        "        self.fc2 = nn.Linear(128, 10)\n",
        "\n",
        "    def forward(self, x):\n",
        "        x = self.conv1(x)\n",
        "        x = F.relu(x)\n",
        "        x = self.conv2(x)\n",
        "        x = F.max_pool2d(x, 2)\n",
        "        x = self.dropout1(x)\n",
        "        x = torch.flatten(x, 1)\n",
        "        x = self.fc1(x)\n",
        "        x = F.relu(x)\n",
        "        x = self.dropout2(x)\n",
        "        x = self.fc2(x)\n",
        "        output = F.log_softmax(x, dim=1)\n",
        "        return output       \n",
        "    \n",
        "    def compute_loss_train(self, data, target):\n",
        "        output = self(data)\n",
        "        return F.nll_loss(output, target)\n",
        "    \n",
        "    def compute_loss_test(self, data, target):\n",
        "        output = self(data)\n",
        "        return F.nll_loss(output, target, reduction='sum').item(), output  # sum up batch loss"
      ],
      "execution_count": 0,
      "outputs": []
    },
    {
      "cell_type": "code",
      "metadata": {
        "id": "QTS4EVR9XxjN",
        "colab_type": "code",
        "colab": {},
        "outputId": "27702a0f-fc07-4e5b-c333-3082ec13a02c"
      },
      "source": [
        "model = SimpleAutoencoder().to(device)\n",
        "optimizer = optim.Adadelta(model.parameters())\n",
        "\n",
        "# plot model\n",
        "dataiter = iter(train_loader)\n",
        "images, labels = dataiter.next()\n",
        "\n",
        "# create grid of images\n",
        "img_grid = torchvision.utils.make_grid(images)\n",
        "\n",
        "# write to tensorboard\n",
        "#writer.add_image('mnist_images', img_grid)\n",
        "\n",
        "scheduler = StepLR(optimizer, step_size=1)\n",
        "for epoch in range(1, 14 + 1):\n",
        "    model.trains(device, train_loader, optimizer, epoch)\n",
        "    model.tests(device, test_loader)\n",
        "    scheduler.step()"
      ],
      "execution_count": 0,
      "outputs": [
        {
          "output_type": "stream",
          "text": [
            "Train Epoch: 1 [0/10000 (0%)]\tLoss: 2.325908\n"
          ],
          "name": "stdout"
        },
        {
          "output_type": "error",
          "ename": "KeyboardInterrupt",
          "evalue": "",
          "traceback": [
            "\u001b[0;31m---------------------------------------------------------------------------\u001b[0m",
            "\u001b[0;31mKeyboardInterrupt\u001b[0m                         Traceback (most recent call last)",
            "\u001b[0;32m<ipython-input-80-2eebc719d3ca>\u001b[0m in \u001b[0;36m<module>\u001b[0;34m\u001b[0m\n\u001b[1;32m     14\u001b[0m \u001b[0mscheduler\u001b[0m \u001b[0;34m=\u001b[0m \u001b[0mStepLR\u001b[0m\u001b[0;34m(\u001b[0m\u001b[0moptimizer\u001b[0m\u001b[0;34m,\u001b[0m \u001b[0mstep_size\u001b[0m\u001b[0;34m=\u001b[0m\u001b[0;36m1\u001b[0m\u001b[0;34m)\u001b[0m\u001b[0;34m\u001b[0m\u001b[0;34m\u001b[0m\u001b[0m\n\u001b[1;32m     15\u001b[0m \u001b[0;32mfor\u001b[0m \u001b[0mepoch\u001b[0m \u001b[0;32min\u001b[0m \u001b[0mrange\u001b[0m\u001b[0;34m(\u001b[0m\u001b[0;36m1\u001b[0m\u001b[0;34m,\u001b[0m \u001b[0;36m14\u001b[0m \u001b[0;34m+\u001b[0m \u001b[0;36m1\u001b[0m\u001b[0;34m)\u001b[0m\u001b[0;34m:\u001b[0m\u001b[0;34m\u001b[0m\u001b[0;34m\u001b[0m\u001b[0m\n\u001b[0;32m---> 16\u001b[0;31m     \u001b[0mmodel\u001b[0m\u001b[0;34m.\u001b[0m\u001b[0mtrains\u001b[0m\u001b[0;34m(\u001b[0m\u001b[0mdevice\u001b[0m\u001b[0;34m,\u001b[0m \u001b[0mtrain_loader\u001b[0m\u001b[0;34m,\u001b[0m \u001b[0moptimizer\u001b[0m\u001b[0;34m,\u001b[0m \u001b[0mepoch\u001b[0m\u001b[0;34m)\u001b[0m\u001b[0;34m\u001b[0m\u001b[0;34m\u001b[0m\u001b[0m\n\u001b[0m\u001b[1;32m     17\u001b[0m     \u001b[0mmodel\u001b[0m\u001b[0;34m.\u001b[0m\u001b[0mtests\u001b[0m\u001b[0;34m(\u001b[0m\u001b[0mdevice\u001b[0m\u001b[0;34m,\u001b[0m \u001b[0mtest_loader\u001b[0m\u001b[0;34m)\u001b[0m\u001b[0;34m\u001b[0m\u001b[0;34m\u001b[0m\u001b[0m\n\u001b[1;32m     18\u001b[0m     \u001b[0mscheduler\u001b[0m\u001b[0;34m.\u001b[0m\u001b[0mstep\u001b[0m\u001b[0;34m(\u001b[0m\u001b[0;34m)\u001b[0m\u001b[0;34m\u001b[0m\u001b[0;34m\u001b[0m\u001b[0m\n",
            "\u001b[0;32m<ipython-input-78-db8de939b0be>\u001b[0m in \u001b[0;36mtrains\u001b[0;34m(self, device, train_loader, optimizer, epoch)\u001b[0m\n\u001b[1;32m     10\u001b[0m             \u001b[0mdata\u001b[0m\u001b[0;34m,\u001b[0m \u001b[0mtarget\u001b[0m \u001b[0;34m=\u001b[0m \u001b[0mdata\u001b[0m\u001b[0;34m.\u001b[0m\u001b[0mto\u001b[0m\u001b[0;34m(\u001b[0m\u001b[0mdevice\u001b[0m\u001b[0;34m)\u001b[0m\u001b[0;34m,\u001b[0m \u001b[0mtarget\u001b[0m\u001b[0;34m.\u001b[0m\u001b[0mto\u001b[0m\u001b[0;34m(\u001b[0m\u001b[0mdevice\u001b[0m\u001b[0;34m)\u001b[0m\u001b[0;34m\u001b[0m\u001b[0;34m\u001b[0m\u001b[0m\n\u001b[1;32m     11\u001b[0m             \u001b[0moptimizer\u001b[0m\u001b[0;34m.\u001b[0m\u001b[0mzero_grad\u001b[0m\u001b[0;34m(\u001b[0m\u001b[0;34m)\u001b[0m\u001b[0;34m\u001b[0m\u001b[0;34m\u001b[0m\u001b[0m\n\u001b[0;32m---> 12\u001b[0;31m             \u001b[0mloss\u001b[0m \u001b[0;34m=\u001b[0m \u001b[0mself\u001b[0m\u001b[0;34m.\u001b[0m\u001b[0mcompute_loss_train\u001b[0m\u001b[0;34m(\u001b[0m\u001b[0mdata\u001b[0m\u001b[0;34m,\u001b[0m \u001b[0mtarget\u001b[0m\u001b[0;34m)\u001b[0m\u001b[0;34m\u001b[0m\u001b[0;34m\u001b[0m\u001b[0m\n\u001b[0m\u001b[1;32m     13\u001b[0m             \u001b[0mloss\u001b[0m\u001b[0;34m.\u001b[0m\u001b[0mbackward\u001b[0m\u001b[0;34m(\u001b[0m\u001b[0;34m)\u001b[0m\u001b[0;34m\u001b[0m\u001b[0;34m\u001b[0m\u001b[0m\n\u001b[1;32m     14\u001b[0m             \u001b[0moptimizer\u001b[0m\u001b[0;34m.\u001b[0m\u001b[0mstep\u001b[0m\u001b[0;34m(\u001b[0m\u001b[0;34m)\u001b[0m\u001b[0;34m\u001b[0m\u001b[0;34m\u001b[0m\u001b[0m\n",
            "\u001b[0;32m<ipython-input-79-2b21ab3cdbc4>\u001b[0m in \u001b[0;36mcompute_loss_train\u001b[0;34m(self, data, target)\u001b[0m\n\u001b[1;32m     24\u001b[0m \u001b[0;34m\u001b[0m\u001b[0m\n\u001b[1;32m     25\u001b[0m     \u001b[0;32mdef\u001b[0m \u001b[0mcompute_loss_train\u001b[0m\u001b[0;34m(\u001b[0m\u001b[0mself\u001b[0m\u001b[0;34m,\u001b[0m \u001b[0mdata\u001b[0m\u001b[0;34m,\u001b[0m \u001b[0mtarget\u001b[0m\u001b[0;34m)\u001b[0m\u001b[0;34m:\u001b[0m\u001b[0;34m\u001b[0m\u001b[0;34m\u001b[0m\u001b[0m\n\u001b[0;32m---> 26\u001b[0;31m         \u001b[0moutput\u001b[0m \u001b[0;34m=\u001b[0m \u001b[0mself\u001b[0m\u001b[0;34m(\u001b[0m\u001b[0mdata\u001b[0m\u001b[0;34m)\u001b[0m\u001b[0;34m\u001b[0m\u001b[0;34m\u001b[0m\u001b[0m\n\u001b[0m\u001b[1;32m     27\u001b[0m         \u001b[0;32mreturn\u001b[0m \u001b[0mF\u001b[0m\u001b[0;34m.\u001b[0m\u001b[0mnll_loss\u001b[0m\u001b[0;34m(\u001b[0m\u001b[0moutput\u001b[0m\u001b[0;34m,\u001b[0m \u001b[0mtarget\u001b[0m\u001b[0;34m)\u001b[0m\u001b[0;34m\u001b[0m\u001b[0;34m\u001b[0m\u001b[0m\n\u001b[1;32m     28\u001b[0m \u001b[0;34m\u001b[0m\u001b[0m\n",
            "\u001b[0;32m/opt/conda/lib/python3.6/site-packages/torch/nn/modules/module.py\u001b[0m in \u001b[0;36m__call__\u001b[0;34m(self, *input, **kwargs)\u001b[0m\n\u001b[1;32m    539\u001b[0m             \u001b[0mresult\u001b[0m \u001b[0;34m=\u001b[0m \u001b[0mself\u001b[0m\u001b[0;34m.\u001b[0m\u001b[0m_slow_forward\u001b[0m\u001b[0;34m(\u001b[0m\u001b[0;34m*\u001b[0m\u001b[0minput\u001b[0m\u001b[0;34m,\u001b[0m \u001b[0;34m**\u001b[0m\u001b[0mkwargs\u001b[0m\u001b[0;34m)\u001b[0m\u001b[0;34m\u001b[0m\u001b[0;34m\u001b[0m\u001b[0m\n\u001b[1;32m    540\u001b[0m         \u001b[0;32melse\u001b[0m\u001b[0;34m:\u001b[0m\u001b[0;34m\u001b[0m\u001b[0;34m\u001b[0m\u001b[0m\n\u001b[0;32m--> 541\u001b[0;31m             \u001b[0mresult\u001b[0m \u001b[0;34m=\u001b[0m \u001b[0mself\u001b[0m\u001b[0;34m.\u001b[0m\u001b[0mforward\u001b[0m\u001b[0;34m(\u001b[0m\u001b[0;34m*\u001b[0m\u001b[0minput\u001b[0m\u001b[0;34m,\u001b[0m \u001b[0;34m**\u001b[0m\u001b[0mkwargs\u001b[0m\u001b[0;34m)\u001b[0m\u001b[0;34m\u001b[0m\u001b[0;34m\u001b[0m\u001b[0m\n\u001b[0m\u001b[1;32m    542\u001b[0m         \u001b[0;32mfor\u001b[0m \u001b[0mhook\u001b[0m \u001b[0;32min\u001b[0m \u001b[0mself\u001b[0m\u001b[0;34m.\u001b[0m\u001b[0m_forward_hooks\u001b[0m\u001b[0;34m.\u001b[0m\u001b[0mvalues\u001b[0m\u001b[0;34m(\u001b[0m\u001b[0;34m)\u001b[0m\u001b[0;34m:\u001b[0m\u001b[0;34m\u001b[0m\u001b[0;34m\u001b[0m\u001b[0m\n\u001b[1;32m    543\u001b[0m             \u001b[0mhook_result\u001b[0m \u001b[0;34m=\u001b[0m \u001b[0mhook\u001b[0m\u001b[0;34m(\u001b[0m\u001b[0mself\u001b[0m\u001b[0;34m,\u001b[0m \u001b[0minput\u001b[0m\u001b[0;34m,\u001b[0m \u001b[0mresult\u001b[0m\u001b[0;34m)\u001b[0m\u001b[0;34m\u001b[0m\u001b[0;34m\u001b[0m\u001b[0m\n",
            "\u001b[0;32m<ipython-input-79-2b21ab3cdbc4>\u001b[0m in \u001b[0;36mforward\u001b[0;34m(self, x)\u001b[0m\n\u001b[1;32m     12\u001b[0m         \u001b[0mx\u001b[0m \u001b[0;34m=\u001b[0m \u001b[0mself\u001b[0m\u001b[0;34m.\u001b[0m\u001b[0mconv1\u001b[0m\u001b[0;34m(\u001b[0m\u001b[0mx\u001b[0m\u001b[0;34m)\u001b[0m\u001b[0;34m\u001b[0m\u001b[0;34m\u001b[0m\u001b[0m\n\u001b[1;32m     13\u001b[0m         \u001b[0mx\u001b[0m \u001b[0;34m=\u001b[0m \u001b[0mF\u001b[0m\u001b[0;34m.\u001b[0m\u001b[0mrelu\u001b[0m\u001b[0;34m(\u001b[0m\u001b[0mx\u001b[0m\u001b[0;34m)\u001b[0m\u001b[0;34m\u001b[0m\u001b[0;34m\u001b[0m\u001b[0m\n\u001b[0;32m---> 14\u001b[0;31m         \u001b[0mx\u001b[0m \u001b[0;34m=\u001b[0m \u001b[0mself\u001b[0m\u001b[0;34m.\u001b[0m\u001b[0mconv2\u001b[0m\u001b[0;34m(\u001b[0m\u001b[0mx\u001b[0m\u001b[0;34m)\u001b[0m\u001b[0;34m\u001b[0m\u001b[0;34m\u001b[0m\u001b[0m\n\u001b[0m\u001b[1;32m     15\u001b[0m         \u001b[0mx\u001b[0m \u001b[0;34m=\u001b[0m \u001b[0mF\u001b[0m\u001b[0;34m.\u001b[0m\u001b[0mmax_pool2d\u001b[0m\u001b[0;34m(\u001b[0m\u001b[0mx\u001b[0m\u001b[0;34m,\u001b[0m \u001b[0;36m2\u001b[0m\u001b[0;34m)\u001b[0m\u001b[0;34m\u001b[0m\u001b[0;34m\u001b[0m\u001b[0m\n\u001b[1;32m     16\u001b[0m         \u001b[0mx\u001b[0m \u001b[0;34m=\u001b[0m \u001b[0mself\u001b[0m\u001b[0;34m.\u001b[0m\u001b[0mdropout1\u001b[0m\u001b[0;34m(\u001b[0m\u001b[0mx\u001b[0m\u001b[0;34m)\u001b[0m\u001b[0;34m\u001b[0m\u001b[0;34m\u001b[0m\u001b[0m\n",
            "\u001b[0;32m/opt/conda/lib/python3.6/site-packages/torch/nn/modules/module.py\u001b[0m in \u001b[0;36m__call__\u001b[0;34m(self, *input, **kwargs)\u001b[0m\n\u001b[1;32m    539\u001b[0m             \u001b[0mresult\u001b[0m \u001b[0;34m=\u001b[0m \u001b[0mself\u001b[0m\u001b[0;34m.\u001b[0m\u001b[0m_slow_forward\u001b[0m\u001b[0;34m(\u001b[0m\u001b[0;34m*\u001b[0m\u001b[0minput\u001b[0m\u001b[0;34m,\u001b[0m \u001b[0;34m**\u001b[0m\u001b[0mkwargs\u001b[0m\u001b[0;34m)\u001b[0m\u001b[0;34m\u001b[0m\u001b[0;34m\u001b[0m\u001b[0m\n\u001b[1;32m    540\u001b[0m         \u001b[0;32melse\u001b[0m\u001b[0;34m:\u001b[0m\u001b[0;34m\u001b[0m\u001b[0;34m\u001b[0m\u001b[0m\n\u001b[0;32m--> 541\u001b[0;31m             \u001b[0mresult\u001b[0m \u001b[0;34m=\u001b[0m \u001b[0mself\u001b[0m\u001b[0;34m.\u001b[0m\u001b[0mforward\u001b[0m\u001b[0;34m(\u001b[0m\u001b[0;34m*\u001b[0m\u001b[0minput\u001b[0m\u001b[0;34m,\u001b[0m \u001b[0;34m**\u001b[0m\u001b[0mkwargs\u001b[0m\u001b[0;34m)\u001b[0m\u001b[0;34m\u001b[0m\u001b[0;34m\u001b[0m\u001b[0m\n\u001b[0m\u001b[1;32m    542\u001b[0m         \u001b[0;32mfor\u001b[0m \u001b[0mhook\u001b[0m \u001b[0;32min\u001b[0m \u001b[0mself\u001b[0m\u001b[0;34m.\u001b[0m\u001b[0m_forward_hooks\u001b[0m\u001b[0;34m.\u001b[0m\u001b[0mvalues\u001b[0m\u001b[0;34m(\u001b[0m\u001b[0;34m)\u001b[0m\u001b[0;34m:\u001b[0m\u001b[0;34m\u001b[0m\u001b[0;34m\u001b[0m\u001b[0m\n\u001b[1;32m    543\u001b[0m             \u001b[0mhook_result\u001b[0m \u001b[0;34m=\u001b[0m \u001b[0mhook\u001b[0m\u001b[0;34m(\u001b[0m\u001b[0mself\u001b[0m\u001b[0;34m,\u001b[0m \u001b[0minput\u001b[0m\u001b[0;34m,\u001b[0m \u001b[0mresult\u001b[0m\u001b[0;34m)\u001b[0m\u001b[0;34m\u001b[0m\u001b[0;34m\u001b[0m\u001b[0m\n",
            "\u001b[0;32m/opt/conda/lib/python3.6/site-packages/torch/nn/modules/conv.py\u001b[0m in \u001b[0;36mforward\u001b[0;34m(self, input)\u001b[0m\n\u001b[1;32m    343\u001b[0m \u001b[0;34m\u001b[0m\u001b[0m\n\u001b[1;32m    344\u001b[0m     \u001b[0;32mdef\u001b[0m \u001b[0mforward\u001b[0m\u001b[0;34m(\u001b[0m\u001b[0mself\u001b[0m\u001b[0;34m,\u001b[0m \u001b[0minput\u001b[0m\u001b[0;34m)\u001b[0m\u001b[0;34m:\u001b[0m\u001b[0;34m\u001b[0m\u001b[0;34m\u001b[0m\u001b[0m\n\u001b[0;32m--> 345\u001b[0;31m         \u001b[0;32mreturn\u001b[0m \u001b[0mself\u001b[0m\u001b[0;34m.\u001b[0m\u001b[0mconv2d_forward\u001b[0m\u001b[0;34m(\u001b[0m\u001b[0minput\u001b[0m\u001b[0;34m,\u001b[0m \u001b[0mself\u001b[0m\u001b[0;34m.\u001b[0m\u001b[0mweight\u001b[0m\u001b[0;34m)\u001b[0m\u001b[0;34m\u001b[0m\u001b[0;34m\u001b[0m\u001b[0m\n\u001b[0m\u001b[1;32m    346\u001b[0m \u001b[0;34m\u001b[0m\u001b[0m\n\u001b[1;32m    347\u001b[0m \u001b[0;32mclass\u001b[0m \u001b[0mConv3d\u001b[0m\u001b[0;34m(\u001b[0m\u001b[0m_ConvNd\u001b[0m\u001b[0;34m)\u001b[0m\u001b[0;34m:\u001b[0m\u001b[0;34m\u001b[0m\u001b[0;34m\u001b[0m\u001b[0m\n",
            "\u001b[0;32m/opt/conda/lib/python3.6/site-packages/torch/nn/modules/conv.py\u001b[0m in \u001b[0;36mconv2d_forward\u001b[0;34m(self, input, weight)\u001b[0m\n\u001b[1;32m    340\u001b[0m                             _pair(0), self.dilation, self.groups)\n\u001b[1;32m    341\u001b[0m         return F.conv2d(input, weight, self.bias, self.stride,\n\u001b[0;32m--> 342\u001b[0;31m                         self.padding, self.dilation, self.groups)\n\u001b[0m\u001b[1;32m    343\u001b[0m \u001b[0;34m\u001b[0m\u001b[0m\n\u001b[1;32m    344\u001b[0m     \u001b[0;32mdef\u001b[0m \u001b[0mforward\u001b[0m\u001b[0;34m(\u001b[0m\u001b[0mself\u001b[0m\u001b[0;34m,\u001b[0m \u001b[0minput\u001b[0m\u001b[0;34m)\u001b[0m\u001b[0;34m:\u001b[0m\u001b[0;34m\u001b[0m\u001b[0;34m\u001b[0m\u001b[0m\n",
            "\u001b[0;31mKeyboardInterrupt\u001b[0m: "
          ]
        }
      ]
    },
    {
      "cell_type": "markdown",
      "metadata": {
        "id": "GWmNtPJBXxjS",
        "colab_type": "text"
      },
      "source": [
        "## Gaussian Variational Autoencoder"
      ]
    },
    {
      "cell_type": "code",
      "metadata": {
        "id": "fz2yfQy7XxjW",
        "colab_type": "code",
        "colab": {}
      },
      "source": [
        "class VAE(Autoencoder):\n",
        "    def __init__(self):\n",
        "        super(VAE, self).__init__()\n",
        "        \n",
        "        self.conv1 = nn.Conv2d(1, 32, 3, 1)\n",
        "        self.conv2 = nn.Conv2d(32, 64, 3, 1)\n",
        "        self.dropout1 = nn.Dropout2d(0.25)\n",
        "        self.dropout2 = nn.Dropout2d(0.5)\n",
        "\n",
        "        self.fc1 = nn.Linear(784, 400)\n",
        "        self.fc21 = nn.Linear(400, 20)\n",
        "        self.fc22 = nn.Linear(400, 20)\n",
        "        self.fc3 = nn.Linear(20, 400)\n",
        "        self.fc4 = nn.Linear(400, 784)\n",
        "\n",
        "    def encode(self, x):\n",
        "        #x = self.conv1(x)\n",
        "        #x = F.relu(x)\n",
        "        #x = self.conv2(x)\n",
        "        #x = F.max_pool2d(x, 2)\n",
        "        #x = self.dropout1(x)\n",
        "        x = torch.flatten(x, 1)\n",
        "        h1 = F.relu(self.fc1(x))\n",
        "        return self.fc21(h1), self.fc22(h1)\n",
        "\n",
        "    def reparameterize(self, mu, logvar):\n",
        "        std = torch.exp(0.5*logvar)\n",
        "        eps = torch.randn_like(std)\n",
        "        return mu + eps*std\n",
        "\n",
        "    def decode(self, z):\n",
        "        h3 = F.relu(self.fc3(z))\n",
        "        return self.fc4(h3)\n",
        "\n",
        "    def forward(self, x):\n",
        "        mu, logvar = self.encode(x)\n",
        "        z = self.reparameterize(mu, logvar)\n",
        "        return self.decode(z), mu, logvar\n",
        "    \n",
        "    def loss_function(self, recon_x, x, mu, logvar):\n",
        "        BCE = F.nll_loss(recon_x, x.view(-1, 784))\n",
        "\n",
        "        # see Appendix B from VAE paper:\n",
        "        # Kingma and Welling. Auto-Encoding Variational Bayes. ICLR, 2014\n",
        "        # https://arxiv.org/abs/1312.6114\n",
        "        # 0.5 * sum(1 + log(sigma^2) - mu^2 - sigma^2)\n",
        "        KLD = -0.5 * torch.sum(1 + logvar - mu.pow(2) - logvar.exp())\n",
        "\n",
        "        return torch.mean(BCE + KLD)\n",
        "    \n",
        "    def compute_loss_train(self, data, target):\n",
        "        recon_batch, mu, logvar = self(data)\n",
        "        return self.loss_function(recon_batch, data, mu, logvar)\n",
        "    \n",
        "    def compute_loss_test(self, data, target):\n",
        "        recon_batch, mu, logvar = self(data)\n",
        "        return self.loss_function(recon_batch, data, mu, logvar).item(), recon_batch  # sum up batch loss"
      ],
      "execution_count": 0,
      "outputs": []
    },
    {
      "cell_type": "code",
      "metadata": {
        "id": "NLJeo93BXxjf",
        "colab_type": "code",
        "colab": {
          "base_uri": "https://localhost:8080/",
          "height": 1000
        },
        "outputId": "f8b3a6ac-a8a0-4861-d6e0-7462ca887a6e"
      },
      "source": [
        "vae = VAE().to(device)\n",
        "optimizer = optim.Adam(vae.parameters(), lr=1e-3)\n",
        "\n",
        "\n",
        "scheduler = StepLR(optimizer, step_size=1)\n",
        "for epoch in range(1, 1 + 1):\n",
        "    vae.trains(device, train_loader, optimizer, epoch)\n",
        "    vae.tests(device, test_loader)\n",
        "    vae.add_embedding(test_loader)\n",
        "    scheduler.step()"
      ],
      "execution_count": 60,
      "outputs": [
        {
          "output_type": "stream",
          "text": [
            "Train Epoch: 1 [0/60000 (0%)]\tLoss: 41.502506\n",
            "Train Epoch: 1 [640/60000 (1%)]\tLoss: 3.152378\n",
            "Train Epoch: 1 [1280/60000 (2%)]\tLoss: 0.492049\n",
            "Train Epoch: 1 [1920/60000 (3%)]\tLoss: -0.125350\n",
            "Train Epoch: 1 [2560/60000 (4%)]\tLoss: -0.581816\n",
            "Train Epoch: 1 [3200/60000 (5%)]\tLoss: -1.011963\n",
            "Train Epoch: 1 [3840/60000 (6%)]\tLoss: -1.444661\n",
            "Train Epoch: 1 [4480/60000 (7%)]\tLoss: -1.949830\n",
            "Train Epoch: 1 [5120/60000 (9%)]\tLoss: -2.495119\n",
            "Train Epoch: 1 [5760/60000 (10%)]\tLoss: -3.019230\n",
            "Train Epoch: 1 [6400/60000 (11%)]\tLoss: -3.716992\n",
            "Train Epoch: 1 [7040/60000 (12%)]\tLoss: -4.570799\n",
            "Train Epoch: 1 [7680/60000 (13%)]\tLoss: -5.478122\n",
            "Train Epoch: 1 [8320/60000 (14%)]\tLoss: -6.560771\n",
            "Train Epoch: 1 [8960/60000 (15%)]\tLoss: -6.779202\n",
            "Train Epoch: 1 [9600/60000 (16%)]\tLoss: -8.562710\n",
            "Train Epoch: 1 [10240/60000 (17%)]\tLoss: -9.365313\n",
            "Train Epoch: 1 [10880/60000 (18%)]\tLoss: -10.302933\n",
            "Train Epoch: 1 [11520/60000 (19%)]\tLoss: -11.941372\n",
            "Train Epoch: 1 [12160/60000 (20%)]\tLoss: -12.784222\n",
            "Train Epoch: 1 [12800/60000 (21%)]\tLoss: -15.255992\n",
            "Train Epoch: 1 [13440/60000 (22%)]\tLoss: -15.510657\n",
            "Train Epoch: 1 [14080/60000 (23%)]\tLoss: -17.764946\n",
            "Train Epoch: 1 [14720/60000 (25%)]\tLoss: -18.919651\n",
            "Train Epoch: 1 [15360/60000 (26%)]\tLoss: -20.766109\n",
            "Train Epoch: 1 [16000/60000 (27%)]\tLoss: -23.382084\n",
            "Train Epoch: 1 [16640/60000 (28%)]\tLoss: -24.469856\n",
            "Train Epoch: 1 [17280/60000 (29%)]\tLoss: -25.829052\n",
            "Train Epoch: 1 [17920/60000 (30%)]\tLoss: -30.619516\n",
            "Train Epoch: 1 [18560/60000 (31%)]\tLoss: -32.314262\n",
            "Train Epoch: 1 [19200/60000 (32%)]\tLoss: -35.064224\n",
            "Train Epoch: 1 [19840/60000 (33%)]\tLoss: -35.802216\n",
            "Train Epoch: 1 [20480/60000 (34%)]\tLoss: -37.897972\n",
            "Train Epoch: 1 [21120/60000 (35%)]\tLoss: -41.411404\n",
            "Train Epoch: 1 [21760/60000 (36%)]\tLoss: -44.016430\n",
            "Train Epoch: 1 [22400/60000 (37%)]\tLoss: -48.034996\n",
            "Train Epoch: 1 [23040/60000 (38%)]\tLoss: -49.717247\n",
            "Train Epoch: 1 [23680/60000 (39%)]\tLoss: -55.043037\n",
            "Train Epoch: 1 [24320/60000 (41%)]\tLoss: -55.273964\n",
            "Train Epoch: 1 [24960/60000 (42%)]\tLoss: -58.833622\n",
            "Train Epoch: 1 [25600/60000 (43%)]\tLoss: -61.354836\n",
            "Train Epoch: 1 [26240/60000 (44%)]\tLoss: -63.552208\n",
            "Train Epoch: 1 [26880/60000 (45%)]\tLoss: -71.146629\n",
            "Train Epoch: 1 [27520/60000 (46%)]\tLoss: -71.611763\n",
            "Train Epoch: 1 [28160/60000 (47%)]\tLoss: -78.273804\n",
            "Train Epoch: 1 [28800/60000 (48%)]\tLoss: -76.519112\n",
            "Train Epoch: 1 [29440/60000 (49%)]\tLoss: -81.785973\n",
            "Train Epoch: 1 [30080/60000 (50%)]\tLoss: -90.378227\n",
            "Train Epoch: 1 [30720/60000 (51%)]\tLoss: -90.919067\n",
            "Train Epoch: 1 [31360/60000 (52%)]\tLoss: -98.562683\n",
            "Train Epoch: 1 [32000/60000 (53%)]\tLoss: -98.379814\n",
            "Train Epoch: 1 [32640/60000 (54%)]\tLoss: -107.371765\n",
            "Train Epoch: 1 [33280/60000 (55%)]\tLoss: -107.783958\n",
            "Train Epoch: 1 [33920/60000 (57%)]\tLoss: -116.279991\n",
            "Train Epoch: 1 [34560/60000 (58%)]\tLoss: -122.676231\n",
            "Train Epoch: 1 [35200/60000 (59%)]\tLoss: -118.963799\n",
            "Train Epoch: 1 [35840/60000 (60%)]\tLoss: -141.440033\n",
            "Train Epoch: 1 [36480/60000 (61%)]\tLoss: -131.924423\n",
            "Train Epoch: 1 [37120/60000 (62%)]\tLoss: -138.122559\n",
            "Train Epoch: 1 [37760/60000 (63%)]\tLoss: -130.171631\n",
            "Train Epoch: 1 [38400/60000 (64%)]\tLoss: -151.662430\n",
            "Train Epoch: 1 [39040/60000 (65%)]\tLoss: -155.372070\n",
            "Train Epoch: 1 [39680/60000 (66%)]\tLoss: -163.806427\n",
            "Train Epoch: 1 [40320/60000 (67%)]\tLoss: -166.012100\n",
            "Train Epoch: 1 [40960/60000 (68%)]\tLoss: -174.219467\n",
            "Train Epoch: 1 [41600/60000 (69%)]\tLoss: -176.372299\n",
            "Train Epoch: 1 [42240/60000 (70%)]\tLoss: -188.121490\n",
            "Train Epoch: 1 [42880/60000 (71%)]\tLoss: -191.645981\n",
            "Train Epoch: 1 [43520/60000 (72%)]\tLoss: -208.619934\n",
            "Train Epoch: 1 [44160/60000 (74%)]\tLoss: -220.649338\n",
            "Train Epoch: 1 [44800/60000 (75%)]\tLoss: -217.427597\n",
            "Train Epoch: 1 [45440/60000 (76%)]\tLoss: -264.480347\n",
            "Train Epoch: 1 [46080/60000 (77%)]\tLoss: -254.089172\n",
            "Train Epoch: 1 [46720/60000 (78%)]\tLoss: -295.195618\n",
            "Train Epoch: 1 [47360/60000 (79%)]\tLoss: -282.387817\n",
            "Train Epoch: 1 [48000/60000 (80%)]\tLoss: -331.331635\n",
            "Train Epoch: 1 [48640/60000 (81%)]\tLoss: -336.668274\n",
            "Train Epoch: 1 [49280/60000 (82%)]\tLoss: -408.114227\n",
            "Train Epoch: 1 [49920/60000 (83%)]\tLoss: -462.495880\n",
            "Train Epoch: 1 [50560/60000 (84%)]\tLoss: -500.141785\n",
            "Train Epoch: 1 [51200/60000 (85%)]\tLoss: -656.489136\n",
            "Train Epoch: 1 [51840/60000 (86%)]\tLoss: -786.011841\n",
            "Train Epoch: 1 [52480/60000 (87%)]\tLoss: -820.283936\n",
            "Train Epoch: 1 [53120/60000 (88%)]\tLoss: -1007.530334\n",
            "Train Epoch: 1 [53760/60000 (90%)]\tLoss: -1077.645020\n",
            "Train Epoch: 1 [54400/60000 (91%)]\tLoss: -1344.153320\n",
            "Train Epoch: 1 [55040/60000 (92%)]\tLoss: -1499.091309\n",
            "Train Epoch: 1 [55680/60000 (93%)]\tLoss: -1855.743164\n",
            "Train Epoch: 1 [56320/60000 (94%)]\tLoss: -1899.645630\n",
            "Train Epoch: 1 [56960/60000 (95%)]\tLoss: -2130.169678\n",
            "Train Epoch: 1 [57600/60000 (96%)]\tLoss: -2358.252441\n",
            "Train Epoch: 1 [58240/60000 (97%)]\tLoss: -2793.763184\n",
            "Train Epoch: 1 [58880/60000 (98%)]\tLoss: -3269.713379\n",
            "Train Epoch: 1 [59520/60000 (99%)]\tLoss: -3495.369629\n",
            "\n",
            "Test set: Average loss: 54.6044, Reconstruction error: 16001845248.0\n",
            "\n",
            "<class 'tuple'>\n"
          ],
          "name": "stdout"
        }
      ]
    },
    {
      "cell_type": "code",
      "metadata": {
        "id": "vTmgcTeAXxjn",
        "colab_type": "code",
        "colab": {}
      },
      "source": [
        "vae.visualize_embeddings(-1)"
      ],
      "execution_count": 0,
      "outputs": []
    },
    {
      "cell_type": "markdown",
      "metadata": {
        "id": "YnhhJ8F5Xxjv",
        "colab_type": "text"
      },
      "source": [
        "## Stick-breaking process"
      ]
    },
    {
      "cell_type": "code",
      "metadata": {
        "id": "7P-mNDsMXxjz",
        "colab_type": "code",
        "colab": {}
      },
      "source": [
        "def stickbreakingprocess(k, a, b):\n",
        "    a = a.to(device)\n",
        "    b = b.to(device)\n",
        "    a = a + 100*torch.finfo(torch.float).eps\n",
        "    b = b + 100*torch.finfo(torch.float).eps\n",
        "    batch_size = a.size()[0]\n",
        "    uniform_samples = Uniform(torch.tensor([0.0]), torch.tensor([1.0])).rsample(torch.tensor([batch_size,k])).view(-1,k).to(device)\n",
        "    exp_a = 1/a\n",
        "    exp_b = 1/b\n",
        "    km = (1- uniform_samples.pow(exp_b)).pow(exp_a)\n",
        "    \n",
        "    #no Nans are allowed in the matrix\n",
        "    #assert not torch.isnan(km).any().item()\n",
        "    \n",
        "    cumprods = torch.cat((torch.ones([batch_size, 1]).to(device), torch.cumprod(1-km, axis=1)), dim=1)\n",
        "    sticks = cumprods[:,:-1]*km\n",
        "    sticks[:, -1] = cumprods[:, -1] \n",
        "    return sticks"
      ],
      "execution_count": 0,
      "outputs": []
    },
    {
      "cell_type": "code",
      "metadata": {
        "id": "ziPKTj5dXxj4",
        "colab_type": "code",
        "colab": {
          "base_uri": "https://localhost:8080/",
          "height": 52
        },
        "outputId": "64124928-541b-44fb-d98e-1d8079156a77"
      },
      "source": [
        "stickbreakingprocess(20, torch.rand(10,20), torch.rand(10,20)).sum(axis=1)"
      ],
      "execution_count": 142,
      "outputs": [
        {
          "output_type": "execute_result",
          "data": {
            "text/plain": [
              "tensor([1.0000, 1.0000, 1.0000, 1.0000, 1.0000, 1.0000, 1.0000, 1.0000, 1.0000,\n",
              "        1.0000], device='cuda:0')"
            ]
          },
          "metadata": {
            "tags": []
          },
          "execution_count": 142
        }
      ]
    },
    {
      "cell_type": "markdown",
      "metadata": {
        "id": "QheULZUTXxkB",
        "colab_type": "text"
      },
      "source": [
        "## Stick-breaking Autoencoder"
      ]
    },
    {
      "cell_type": "code",
      "metadata": {
        "id": "5Qp8w_wAXxkC",
        "colab_type": "code",
        "colab": {}
      },
      "source": [
        "class SBVAE(Autoencoder):\n",
        "    def __init__(self, k):\n",
        "        super(SBVAE, self).__init__()\n",
        "        self.k = k\n",
        "        \n",
        "        self.conv1 = nn.Conv2d(1, 32, 3, 1)\n",
        "        self.conv2 = nn.Conv2d(32, 64, 3, 1)\n",
        "        self.dropout1 = nn.Dropout2d(0.25)\n",
        "        self.dropout2 = nn.Dropout2d(0.5)\n",
        "\n",
        "        self.fc1 = nn.Linear(784, 400)\n",
        "        self.bn1 = nn.BatchNorm1d(num_features=self.k)\n",
        "        self.bn2 = nn.BatchNorm1d(num_features=self.k)\n",
        "        self.fc21 = nn.Linear(400, self.k)\n",
        "        self.fc22 = nn.Linear(400, self.k)\n",
        "        \n",
        "        \n",
        "        self.fc3 = nn.Linear(self.k, 400)\n",
        "        self.fc4 = nn.Linear(400, 784)\n",
        "\n",
        "    def encode(self, x):\n",
        "        #x = self.conv1(x)\n",
        "        #x = F.relu(x)\n",
        "        #x = self.conv2(x)\n",
        "        #x = F.max_pool2d(x, 2)\n",
        "        #x = self.dropout1(x)\n",
        "        x = torch.flatten(x, 1)\n",
        "        h1 = F.relu(self.fc1(x))\n",
        "        return F.softplus(self.bn1(self.fc21(h1))), F.softplus(self.bn2(self.fc22(h1)))\n",
        "\n",
        "    def reparameterize(self, a, b):\n",
        "        return stickbreakingprocess(self.k, a, b)\n",
        "\n",
        "    def decode(self, z):\n",
        "        h3 = F.relu(self.fc3(z))\n",
        "        return self.fc4(h3)\n",
        "\n",
        "    def forward(self, x):\n",
        "        a, b = self.encode(x)\n",
        "        z = self.reparameterize(a, b)\n",
        "        return self.decode(z), a, b\n",
        "    \n",
        "    def Beta(self, a,b):\n",
        "        return torch.exp(torch.lgamma(a) + torch.lgamma(b) - torch.lgamma(a+b))\n",
        "    \n",
        "    def loss_function(self, recon_x, x, a, b, prior_alpha, prior_beta):\n",
        "        #a = a + 100*torch.finfo(torch.float64).eps\n",
        "        #b = b + 100*torch.finfo(torch.float64).eps\n",
        "        BCE = F.binary_cross_entropy_with_logits(recon_x, x.view(-1, 784))\n",
        "        kl = 1./(1+a*b) * self.Beta(1./a, b)\n",
        "        kl += 1./(2+a*b) * self.Beta(2./a, b)\n",
        "        kl += 1./(3+a*b) * self.Beta(3./a, b)\n",
        "        kl += 1./(4+a*b) * self.Beta(4./a, b)\n",
        "        kl += 1./(5+a*b) * self.Beta(5./a, b)\n",
        "        kl += 1./(6+a*b) * self.Beta(6./a, b)\n",
        "        kl += 1./(7+a*b) * self.Beta(7./a, b)\n",
        "        kl += 1./(8+a*b) * self.Beta(8./a, b)\n",
        "        kl += 1./(9+a*b) * self.Beta(9./a, b)\n",
        "        kl += 1./(10+a*b) * self.Beta(10./a, b)\n",
        "        kl *= (prior_beta-1)*b\n",
        "                                                                                                                                            \n",
        "        kl += (a-prior_alpha)/a * (-np.euler_gamma - torch.digamma(b) - 1/b) #T.psi(self.posterior_b)                                                                                        \n",
        "\n",
        "        # add normalization constants                                                                                                                                                                \n",
        "        kl += torch.log(a*b) + torch.log(self.Beta(prior_alpha, prior_beta))\n",
        "\n",
        "        # final term                                                                                                                                                                                 \n",
        "        kl += -(b-1)/b \n",
        "        \n",
        "        return torch.mean(BCE + kl)\n",
        "    \n",
        "    def compute_loss_train(self, data, target):\n",
        "        recon_batch, a, b = self(data)\n",
        "        return self.loss_function(recon_batch, data, a, b, torch.Tensor([1]).to(device), torch.Tensor([5]).to(device))\n",
        "    \n",
        "    def compute_loss_test(self, data, target):\n",
        "        recon_batch, a, b = self(data)\n",
        "        return self.loss_function(recon_batch, data, a, b, torch.Tensor([1]).to(device), torch.Tensor([5]).to(device)).item(), recon_batch  # sum up batch loss"
      ],
      "execution_count": 0,
      "outputs": []
    },
    {
      "cell_type": "code",
      "metadata": {
        "id": "HmNemMwJXxkI",
        "colab_type": "code",
        "colab": {
          "base_uri": "https://localhost:8080/",
          "height": 1000
        },
        "outputId": "9d8f44fb-c864-45a7-9105-366c739be3a3"
      },
      "source": [
        "sbvae = SBVAE(k=50).to(device)\n",
        "optimizer = optim.Adam(sbvae.parameters(), lr=1e-3)\n",
        "#sbvae.writer.add_graph(sbvae, next(iter(train_loader))[0])\n",
        "\n",
        "\n",
        "scheduler = StepLR(optimizer, step_size=1)\n",
        "for epoch in range(1, 10 + 1): \n",
        "    sbvae.trains(device, train_loader, optimizer, epoch)\n",
        "    sbvae.tests(device, test_loader)\n",
        "    scheduler.step()\n",
        "    sbvae.add_embedding(test_loader)"
      ],
      "execution_count": 144,
      "outputs": [
        {
          "output_type": "stream",
          "text": [
            "Train Epoch: 1 [0/60000 (0%)]\tLoss: 4.530832\n",
            "Train Epoch: 1 [1280/60000 (2%)]\tLoss: 3.718680\n",
            "Train Epoch: 1 [2560/60000 (4%)]\tLoss: 3.361599\n",
            "Train Epoch: 1 [3840/60000 (6%)]\tLoss: 2.993325\n",
            "Train Epoch: 1 [5120/60000 (9%)]\tLoss: 2.572891\n",
            "Train Epoch: 1 [6400/60000 (11%)]\tLoss: 2.269247\n",
            "Train Epoch: 1 [7680/60000 (13%)]\tLoss: 1.854861\n",
            "Train Epoch: 1 [8960/60000 (15%)]\tLoss: 1.509754\n",
            "Train Epoch: 1 [10240/60000 (17%)]\tLoss: 1.055170\n",
            "Train Epoch: 1 [11520/60000 (19%)]\tLoss: 0.564597\n",
            "Train Epoch: 1 [12800/60000 (21%)]\tLoss: -0.096052\n",
            "Train Epoch: 1 [14080/60000 (23%)]\tLoss: -0.744341\n",
            "Train Epoch: 1 [15360/60000 (26%)]\tLoss: -1.510813\n",
            "Train Epoch: 1 [16640/60000 (28%)]\tLoss: -2.099172\n",
            "Train Epoch: 1 [17920/60000 (30%)]\tLoss: -2.848504\n",
            "Train Epoch: 1 [19200/60000 (32%)]\tLoss: -3.944585\n",
            "Train Epoch: 1 [20480/60000 (34%)]\tLoss: -5.070721\n",
            "Train Epoch: 1 [21760/60000 (36%)]\tLoss: -6.311104\n",
            "Train Epoch: 1 [23040/60000 (38%)]\tLoss: -7.614820\n",
            "Train Epoch: 1 [24320/60000 (41%)]\tLoss: -8.826167\n",
            "Train Epoch: 1 [25600/60000 (43%)]\tLoss: -10.258315\n",
            "Train Epoch: 1 [26880/60000 (45%)]\tLoss: -12.407323\n",
            "Train Epoch: 1 [28160/60000 (47%)]\tLoss: -13.322364\n",
            "Train Epoch: 1 [29440/60000 (49%)]\tLoss: -15.619487\n",
            "Train Epoch: 1 [30720/60000 (51%)]\tLoss: -16.645247\n",
            "Train Epoch: 1 [32000/60000 (53%)]\tLoss: -19.290922\n",
            "Train Epoch: 1 [33280/60000 (55%)]\tLoss: -21.821449\n",
            "Train Epoch: 1 [34560/60000 (58%)]\tLoss: -22.637190\n",
            "Train Epoch: 1 [35840/60000 (60%)]\tLoss: -24.845911\n",
            "Train Epoch: 1 [37120/60000 (62%)]\tLoss: -28.497658\n",
            "Train Epoch: 1 [38400/60000 (64%)]\tLoss: -30.825966\n",
            "Train Epoch: 1 [39680/60000 (66%)]\tLoss: -33.574844\n",
            "Train Epoch: 1 [40960/60000 (68%)]\tLoss: -36.134251\n",
            "Train Epoch: 1 [42240/60000 (70%)]\tLoss: -38.884113\n",
            "Train Epoch: 1 [43520/60000 (72%)]\tLoss: -40.382751\n",
            "Train Epoch: 1 [44800/60000 (75%)]\tLoss: -44.848415\n",
            "Train Epoch: 1 [46080/60000 (77%)]\tLoss: -46.988918\n",
            "Train Epoch: 1 [47360/60000 (79%)]\tLoss: -52.614071\n",
            "Train Epoch: 1 [48640/60000 (81%)]\tLoss: -54.322647\n",
            "Train Epoch: 1 [49920/60000 (83%)]\tLoss: -57.178837\n",
            "Train Epoch: 1 [51200/60000 (85%)]\tLoss: -61.196831\n",
            "Train Epoch: 1 [52480/60000 (87%)]\tLoss: -65.499214\n",
            "Train Epoch: 1 [53760/60000 (90%)]\tLoss: -68.991241\n",
            "Train Epoch: 1 [55040/60000 (92%)]\tLoss: -72.414200\n",
            "Train Epoch: 1 [56320/60000 (94%)]\tLoss: -74.203926\n",
            "Train Epoch: 1 [57600/60000 (96%)]\tLoss: -81.160980\n",
            "Train Epoch: 1 [58880/60000 (98%)]\tLoss: -84.168983\n",
            "\n",
            "Test set: Average loss: -0.0888, Reconstruction error: 195192000.0\n",
            "\n",
            "<class 'tuple'>\n",
            "Train Epoch: 2 [0/60000 (0%)]\tLoss: -91.087051\n",
            "Train Epoch: 2 [1280/60000 (2%)]\tLoss: -89.334259\n",
            "Train Epoch: 2 [2560/60000 (4%)]\tLoss: -87.643944\n",
            "Train Epoch: 2 [3840/60000 (6%)]\tLoss: -90.056557\n",
            "Train Epoch: 2 [5120/60000 (9%)]\tLoss: -87.693100\n",
            "Train Epoch: 2 [6400/60000 (11%)]\tLoss: -88.335426\n",
            "Train Epoch: 2 [7680/60000 (13%)]\tLoss: -90.730156\n",
            "Train Epoch: 2 [8960/60000 (15%)]\tLoss: -92.449013\n",
            "Train Epoch: 2 [10240/60000 (17%)]\tLoss: -93.182022\n",
            "Train Epoch: 2 [11520/60000 (19%)]\tLoss: -92.275856\n",
            "Train Epoch: 2 [12800/60000 (21%)]\tLoss: -92.690308\n",
            "Train Epoch: 2 [14080/60000 (23%)]\tLoss: -92.651955\n",
            "Train Epoch: 2 [15360/60000 (26%)]\tLoss: -92.300056\n",
            "Train Epoch: 2 [16640/60000 (28%)]\tLoss: -94.451286\n",
            "Train Epoch: 2 [17920/60000 (30%)]\tLoss: -93.357780\n",
            "Train Epoch: 2 [19200/60000 (32%)]\tLoss: -96.051125\n",
            "Train Epoch: 2 [20480/60000 (34%)]\tLoss: -95.627113\n",
            "Train Epoch: 2 [21760/60000 (36%)]\tLoss: -95.678444\n",
            "Train Epoch: 2 [23040/60000 (38%)]\tLoss: -92.545273\n",
            "Train Epoch: 2 [24320/60000 (41%)]\tLoss: -95.446091\n",
            "Train Epoch: 2 [25600/60000 (43%)]\tLoss: -96.945427\n",
            "Train Epoch: 2 [26880/60000 (45%)]\tLoss: -96.089325\n",
            "Train Epoch: 2 [28160/60000 (47%)]\tLoss: -96.001030\n",
            "Train Epoch: 2 [29440/60000 (49%)]\tLoss: -98.473526\n",
            "Train Epoch: 2 [30720/60000 (51%)]\tLoss: -97.172279\n",
            "Train Epoch: 2 [32000/60000 (53%)]\tLoss: -96.816017\n",
            "Train Epoch: 2 [33280/60000 (55%)]\tLoss: -97.233536\n",
            "Train Epoch: 2 [34560/60000 (58%)]\tLoss: -98.089828\n",
            "Train Epoch: 2 [35840/60000 (60%)]\tLoss: -99.274643\n",
            "Train Epoch: 2 [37120/60000 (62%)]\tLoss: -100.765450\n",
            "Train Epoch: 2 [38400/60000 (64%)]\tLoss: -99.218513\n",
            "Train Epoch: 2 [39680/60000 (66%)]\tLoss: -97.667847\n",
            "Train Epoch: 2 [40960/60000 (68%)]\tLoss: -102.680679\n",
            "Train Epoch: 2 [42240/60000 (70%)]\tLoss: -101.259415\n",
            "Train Epoch: 2 [43520/60000 (72%)]\tLoss: -98.333862\n",
            "Train Epoch: 2 [44800/60000 (75%)]\tLoss: -98.944695\n",
            "Train Epoch: 2 [46080/60000 (77%)]\tLoss: -102.411736\n",
            "Train Epoch: 2 [47360/60000 (79%)]\tLoss: -98.565399\n",
            "Train Epoch: 2 [48640/60000 (81%)]\tLoss: -100.855659\n",
            "Train Epoch: 2 [49920/60000 (83%)]\tLoss: -101.337578\n",
            "Train Epoch: 2 [51200/60000 (85%)]\tLoss: -99.235054\n",
            "Train Epoch: 2 [52480/60000 (87%)]\tLoss: -102.414345\n",
            "Train Epoch: 2 [53760/60000 (90%)]\tLoss: -102.261345\n",
            "Train Epoch: 2 [55040/60000 (92%)]\tLoss: -105.404861\n",
            "Train Epoch: 2 [56320/60000 (94%)]\tLoss: -104.540489\n",
            "Train Epoch: 2 [57600/60000 (96%)]\tLoss: -105.070518\n",
            "Train Epoch: 2 [58880/60000 (98%)]\tLoss: -102.755699\n",
            "\n",
            "Test set: Average loss: -0.1065, Reconstruction error: 232634800.0\n",
            "\n",
            "<class 'tuple'>\n",
            "Train Epoch: 3 [0/60000 (0%)]\tLoss: -104.797577\n",
            "Train Epoch: 3 [1280/60000 (2%)]\tLoss: -102.813354\n",
            "Train Epoch: 3 [2560/60000 (4%)]\tLoss: -107.157372\n",
            "Train Epoch: 3 [3840/60000 (6%)]\tLoss: -102.598190\n",
            "Train Epoch: 3 [5120/60000 (9%)]\tLoss: -103.653503\n",
            "Train Epoch: 3 [6400/60000 (11%)]\tLoss: -104.316208\n",
            "Train Epoch: 3 [7680/60000 (13%)]\tLoss: -109.455841\n",
            "Train Epoch: 3 [8960/60000 (15%)]\tLoss: -103.627449\n",
            "Train Epoch: 3 [10240/60000 (17%)]\tLoss: -105.399841\n",
            "Train Epoch: 3 [11520/60000 (19%)]\tLoss: -102.714317\n",
            "Train Epoch: 3 [12800/60000 (21%)]\tLoss: -103.738785\n",
            "Train Epoch: 3 [14080/60000 (23%)]\tLoss: -106.828377\n",
            "Train Epoch: 3 [15360/60000 (26%)]\tLoss: -103.644684\n",
            "Train Epoch: 3 [16640/60000 (28%)]\tLoss: -105.136909\n",
            "Train Epoch: 3 [17920/60000 (30%)]\tLoss: -104.688217\n",
            "Train Epoch: 3 [19200/60000 (32%)]\tLoss: -107.013496\n",
            "Train Epoch: 3 [20480/60000 (34%)]\tLoss: -106.233086\n",
            "Train Epoch: 3 [21760/60000 (36%)]\tLoss: -105.455162\n",
            "Train Epoch: 3 [23040/60000 (38%)]\tLoss: -103.811020\n",
            "Train Epoch: 3 [24320/60000 (41%)]\tLoss: -106.214806\n",
            "Train Epoch: 3 [25600/60000 (43%)]\tLoss: -104.060356\n",
            "Train Epoch: 3 [26880/60000 (45%)]\tLoss: -104.995796\n",
            "Train Epoch: 3 [28160/60000 (47%)]\tLoss: -106.862488\n",
            "Train Epoch: 3 [29440/60000 (49%)]\tLoss: -105.700233\n",
            "Train Epoch: 3 [30720/60000 (51%)]\tLoss: -108.640587\n",
            "Train Epoch: 3 [32000/60000 (53%)]\tLoss: -101.928253\n",
            "Train Epoch: 3 [33280/60000 (55%)]\tLoss: -108.237495\n",
            "Train Epoch: 3 [34560/60000 (58%)]\tLoss: -106.049538\n",
            "Train Epoch: 3 [35840/60000 (60%)]\tLoss: -106.273666\n",
            "Train Epoch: 3 [37120/60000 (62%)]\tLoss: -106.966713\n",
            "Train Epoch: 3 [38400/60000 (64%)]\tLoss: -106.926323\n",
            "Train Epoch: 3 [39680/60000 (66%)]\tLoss: -106.664314\n",
            "Train Epoch: 3 [40960/60000 (68%)]\tLoss: -103.761353\n",
            "Train Epoch: 3 [42240/60000 (70%)]\tLoss: -107.281288\n",
            "Train Epoch: 3 [43520/60000 (72%)]\tLoss: -105.889999\n",
            "Train Epoch: 3 [44800/60000 (75%)]\tLoss: -106.172813\n",
            "Train Epoch: 3 [46080/60000 (77%)]\tLoss: -110.243103\n",
            "Train Epoch: 3 [47360/60000 (79%)]\tLoss: -107.483856\n",
            "Train Epoch: 3 [48640/60000 (81%)]\tLoss: -107.898193\n",
            "Train Epoch: 3 [49920/60000 (83%)]\tLoss: -107.989082\n",
            "Train Epoch: 3 [51200/60000 (85%)]\tLoss: -107.865532\n",
            "Train Epoch: 3 [52480/60000 (87%)]\tLoss: -107.622993\n",
            "Train Epoch: 3 [53760/60000 (90%)]\tLoss: -109.921814\n",
            "Train Epoch: 3 [55040/60000 (92%)]\tLoss: -104.144127\n",
            "Train Epoch: 3 [56320/60000 (94%)]\tLoss: -104.994499\n",
            "Train Epoch: 3 [57600/60000 (96%)]\tLoss: -109.759605\n",
            "Train Epoch: 3 [58880/60000 (98%)]\tLoss: -106.093925\n",
            "\n",
            "Test set: Average loss: -0.1080, Reconstruction error: 236352192.0\n",
            "\n",
            "<class 'tuple'>\n",
            "Train Epoch: 4 [0/60000 (0%)]\tLoss: -108.012276\n",
            "Train Epoch: 4 [1280/60000 (2%)]\tLoss: -104.922340\n",
            "Train Epoch: 4 [2560/60000 (4%)]\tLoss: -104.729942\n",
            "Train Epoch: 4 [3840/60000 (6%)]\tLoss: -106.888573\n",
            "Train Epoch: 4 [5120/60000 (9%)]\tLoss: -105.066650\n",
            "Train Epoch: 4 [6400/60000 (11%)]\tLoss: -106.292984\n",
            "Train Epoch: 4 [7680/60000 (13%)]\tLoss: -108.318474\n",
            "Train Epoch: 4 [8960/60000 (15%)]\tLoss: -109.663300\n",
            "Train Epoch: 4 [10240/60000 (17%)]\tLoss: -104.466843\n",
            "Train Epoch: 4 [11520/60000 (19%)]\tLoss: -107.386520\n",
            "Train Epoch: 4 [12800/60000 (21%)]\tLoss: -106.580330\n",
            "Train Epoch: 4 [14080/60000 (23%)]\tLoss: -107.431816\n",
            "Train Epoch: 4 [15360/60000 (26%)]\tLoss: -101.550697\n",
            "Train Epoch: 4 [16640/60000 (28%)]\tLoss: -107.815620\n",
            "Train Epoch: 4 [17920/60000 (30%)]\tLoss: -105.822891\n"
          ],
          "name": "stdout"
        },
        {
          "output_type": "error",
          "ename": "KeyboardInterrupt",
          "evalue": "ignored",
          "traceback": [
            "\u001b[0;31m---------------------------------------------------------------------------\u001b[0m",
            "\u001b[0;31mKeyboardInterrupt\u001b[0m                         Traceback (most recent call last)",
            "\u001b[0;32m<ipython-input-144-dd734672be0b>\u001b[0m in \u001b[0;36m<module>\u001b[0;34m()\u001b[0m\n\u001b[1;32m      6\u001b[0m \u001b[0mscheduler\u001b[0m \u001b[0;34m=\u001b[0m \u001b[0mStepLR\u001b[0m\u001b[0;34m(\u001b[0m\u001b[0moptimizer\u001b[0m\u001b[0;34m,\u001b[0m \u001b[0mstep_size\u001b[0m\u001b[0;34m=\u001b[0m\u001b[0;36m1\u001b[0m\u001b[0;34m)\u001b[0m\u001b[0;34m\u001b[0m\u001b[0;34m\u001b[0m\u001b[0m\n\u001b[1;32m      7\u001b[0m \u001b[0;32mfor\u001b[0m \u001b[0mepoch\u001b[0m \u001b[0;32min\u001b[0m \u001b[0mrange\u001b[0m\u001b[0;34m(\u001b[0m\u001b[0;36m1\u001b[0m\u001b[0;34m,\u001b[0m \u001b[0;36m10\u001b[0m \u001b[0;34m+\u001b[0m \u001b[0;36m1\u001b[0m\u001b[0;34m)\u001b[0m\u001b[0;34m:\u001b[0m\u001b[0;34m\u001b[0m\u001b[0;34m\u001b[0m\u001b[0m\n\u001b[0;32m----> 8\u001b[0;31m     \u001b[0msbvae\u001b[0m\u001b[0;34m.\u001b[0m\u001b[0mtrains\u001b[0m\u001b[0;34m(\u001b[0m\u001b[0mdevice\u001b[0m\u001b[0;34m,\u001b[0m \u001b[0mtrain_loader\u001b[0m\u001b[0;34m,\u001b[0m \u001b[0moptimizer\u001b[0m\u001b[0;34m,\u001b[0m \u001b[0mepoch\u001b[0m\u001b[0;34m)\u001b[0m\u001b[0;34m\u001b[0m\u001b[0;34m\u001b[0m\u001b[0m\n\u001b[0m\u001b[1;32m      9\u001b[0m     \u001b[0msbvae\u001b[0m\u001b[0;34m.\u001b[0m\u001b[0mtests\u001b[0m\u001b[0;34m(\u001b[0m\u001b[0mdevice\u001b[0m\u001b[0;34m,\u001b[0m \u001b[0mtest_loader\u001b[0m\u001b[0;34m)\u001b[0m\u001b[0;34m\u001b[0m\u001b[0;34m\u001b[0m\u001b[0m\n\u001b[1;32m     10\u001b[0m     \u001b[0mscheduler\u001b[0m\u001b[0;34m.\u001b[0m\u001b[0mstep\u001b[0m\u001b[0;34m(\u001b[0m\u001b[0;34m)\u001b[0m\u001b[0;34m\u001b[0m\u001b[0;34m\u001b[0m\u001b[0m\n",
            "\u001b[0;32m<ipython-input-74-9b2a941b0d7d>\u001b[0m in \u001b[0;36mtrains\u001b[0;34m(self, device, train_loader, optimizer, epoch)\u001b[0m\n\u001b[1;32m     14\u001b[0m             \u001b[0mdata\u001b[0m\u001b[0;34m,\u001b[0m \u001b[0mtarget\u001b[0m \u001b[0;34m=\u001b[0m \u001b[0mdata\u001b[0m\u001b[0;34m.\u001b[0m\u001b[0mto\u001b[0m\u001b[0;34m(\u001b[0m\u001b[0mdevice\u001b[0m\u001b[0;34m)\u001b[0m\u001b[0;34m,\u001b[0m \u001b[0mtarget\u001b[0m\u001b[0;34m.\u001b[0m\u001b[0mto\u001b[0m\u001b[0;34m(\u001b[0m\u001b[0mdevice\u001b[0m\u001b[0;34m)\u001b[0m\u001b[0;34m\u001b[0m\u001b[0;34m\u001b[0m\u001b[0m\n\u001b[1;32m     15\u001b[0m             \u001b[0moptimizer\u001b[0m\u001b[0;34m.\u001b[0m\u001b[0mzero_grad\u001b[0m\u001b[0;34m(\u001b[0m\u001b[0;34m)\u001b[0m\u001b[0;34m\u001b[0m\u001b[0;34m\u001b[0m\u001b[0m\n\u001b[0;32m---> 16\u001b[0;31m             \u001b[0mloss\u001b[0m \u001b[0;34m=\u001b[0m \u001b[0mself\u001b[0m\u001b[0;34m.\u001b[0m\u001b[0mcompute_loss_train\u001b[0m\u001b[0;34m(\u001b[0m\u001b[0mdata\u001b[0m\u001b[0;34m,\u001b[0m \u001b[0mtarget\u001b[0m\u001b[0;34m)\u001b[0m\u001b[0;34m\u001b[0m\u001b[0;34m\u001b[0m\u001b[0m\n\u001b[0m\u001b[1;32m     17\u001b[0m             \u001b[0mloss\u001b[0m\u001b[0;34m.\u001b[0m\u001b[0mbackward\u001b[0m\u001b[0;34m(\u001b[0m\u001b[0;34m)\u001b[0m\u001b[0;34m\u001b[0m\u001b[0;34m\u001b[0m\u001b[0m\n\u001b[1;32m     18\u001b[0m             \u001b[0moptimizer\u001b[0m\u001b[0;34m.\u001b[0m\u001b[0mstep\u001b[0m\u001b[0;34m(\u001b[0m\u001b[0;34m)\u001b[0m\u001b[0;34m\u001b[0m\u001b[0;34m\u001b[0m\u001b[0m\n",
            "\u001b[0;32m<ipython-input-143-a4e545583f6a>\u001b[0m in \u001b[0;36mcompute_loss_train\u001b[0;34m(self, data, target)\u001b[0m\n\u001b[1;32m     72\u001b[0m     \u001b[0;32mdef\u001b[0m \u001b[0mcompute_loss_train\u001b[0m\u001b[0;34m(\u001b[0m\u001b[0mself\u001b[0m\u001b[0;34m,\u001b[0m \u001b[0mdata\u001b[0m\u001b[0;34m,\u001b[0m \u001b[0mtarget\u001b[0m\u001b[0;34m)\u001b[0m\u001b[0;34m:\u001b[0m\u001b[0;34m\u001b[0m\u001b[0;34m\u001b[0m\u001b[0m\n\u001b[1;32m     73\u001b[0m         \u001b[0mrecon_batch\u001b[0m\u001b[0;34m,\u001b[0m \u001b[0ma\u001b[0m\u001b[0;34m,\u001b[0m \u001b[0mb\u001b[0m \u001b[0;34m=\u001b[0m \u001b[0mself\u001b[0m\u001b[0;34m(\u001b[0m\u001b[0mdata\u001b[0m\u001b[0;34m)\u001b[0m\u001b[0;34m\u001b[0m\u001b[0;34m\u001b[0m\u001b[0m\n\u001b[0;32m---> 74\u001b[0;31m         \u001b[0;32mreturn\u001b[0m \u001b[0mself\u001b[0m\u001b[0;34m.\u001b[0m\u001b[0mloss_function\u001b[0m\u001b[0;34m(\u001b[0m\u001b[0mrecon_batch\u001b[0m\u001b[0;34m,\u001b[0m \u001b[0mdata\u001b[0m\u001b[0;34m,\u001b[0m \u001b[0ma\u001b[0m\u001b[0;34m,\u001b[0m \u001b[0mb\u001b[0m\u001b[0;34m,\u001b[0m \u001b[0mtorch\u001b[0m\u001b[0;34m.\u001b[0m\u001b[0mTensor\u001b[0m\u001b[0;34m(\u001b[0m\u001b[0;34m[\u001b[0m\u001b[0;36m1\u001b[0m\u001b[0;34m]\u001b[0m\u001b[0;34m)\u001b[0m\u001b[0;34m.\u001b[0m\u001b[0mto\u001b[0m\u001b[0;34m(\u001b[0m\u001b[0mdevice\u001b[0m\u001b[0;34m)\u001b[0m\u001b[0;34m,\u001b[0m \u001b[0mtorch\u001b[0m\u001b[0;34m.\u001b[0m\u001b[0mTensor\u001b[0m\u001b[0;34m(\u001b[0m\u001b[0;34m[\u001b[0m\u001b[0;36m5\u001b[0m\u001b[0;34m]\u001b[0m\u001b[0;34m)\u001b[0m\u001b[0;34m.\u001b[0m\u001b[0mto\u001b[0m\u001b[0;34m(\u001b[0m\u001b[0mdevice\u001b[0m\u001b[0;34m)\u001b[0m\u001b[0;34m)\u001b[0m\u001b[0;34m\u001b[0m\u001b[0;34m\u001b[0m\u001b[0m\n\u001b[0m\u001b[1;32m     75\u001b[0m \u001b[0;34m\u001b[0m\u001b[0m\n\u001b[1;32m     76\u001b[0m     \u001b[0;32mdef\u001b[0m \u001b[0mcompute_loss_test\u001b[0m\u001b[0;34m(\u001b[0m\u001b[0mself\u001b[0m\u001b[0;34m,\u001b[0m \u001b[0mdata\u001b[0m\u001b[0;34m,\u001b[0m \u001b[0mtarget\u001b[0m\u001b[0;34m)\u001b[0m\u001b[0;34m:\u001b[0m\u001b[0;34m\u001b[0m\u001b[0;34m\u001b[0m\u001b[0m\n",
            "\u001b[0;32m<ipython-input-143-a4e545583f6a>\u001b[0m in \u001b[0;36mloss_function\u001b[0;34m(self, recon_x, x, a, b, prior_alpha, prior_beta)\u001b[0m\n\u001b[1;32m     57\u001b[0m         \u001b[0mkl\u001b[0m \u001b[0;34m+=\u001b[0m \u001b[0;36m1.\u001b[0m\u001b[0;34m/\u001b[0m\u001b[0;34m(\u001b[0m\u001b[0;36m8\u001b[0m\u001b[0;34m+\u001b[0m\u001b[0ma\u001b[0m\u001b[0;34m*\u001b[0m\u001b[0mb\u001b[0m\u001b[0;34m)\u001b[0m \u001b[0;34m*\u001b[0m \u001b[0mself\u001b[0m\u001b[0;34m.\u001b[0m\u001b[0mBeta\u001b[0m\u001b[0;34m(\u001b[0m\u001b[0;36m8.\u001b[0m\u001b[0;34m/\u001b[0m\u001b[0ma\u001b[0m\u001b[0;34m,\u001b[0m \u001b[0mb\u001b[0m\u001b[0;34m)\u001b[0m\u001b[0;34m\u001b[0m\u001b[0;34m\u001b[0m\u001b[0m\n\u001b[1;32m     58\u001b[0m         \u001b[0mkl\u001b[0m \u001b[0;34m+=\u001b[0m \u001b[0;36m1.\u001b[0m\u001b[0;34m/\u001b[0m\u001b[0;34m(\u001b[0m\u001b[0;36m9\u001b[0m\u001b[0;34m+\u001b[0m\u001b[0ma\u001b[0m\u001b[0;34m*\u001b[0m\u001b[0mb\u001b[0m\u001b[0;34m)\u001b[0m \u001b[0;34m*\u001b[0m \u001b[0mself\u001b[0m\u001b[0;34m.\u001b[0m\u001b[0mBeta\u001b[0m\u001b[0;34m(\u001b[0m\u001b[0;36m9.\u001b[0m\u001b[0;34m/\u001b[0m\u001b[0ma\u001b[0m\u001b[0;34m,\u001b[0m \u001b[0mb\u001b[0m\u001b[0;34m)\u001b[0m\u001b[0;34m\u001b[0m\u001b[0;34m\u001b[0m\u001b[0m\n\u001b[0;32m---> 59\u001b[0;31m         \u001b[0mkl\u001b[0m \u001b[0;34m+=\u001b[0m \u001b[0;36m1.\u001b[0m\u001b[0;34m/\u001b[0m\u001b[0;34m(\u001b[0m\u001b[0;36m10\u001b[0m\u001b[0;34m+\u001b[0m\u001b[0ma\u001b[0m\u001b[0;34m*\u001b[0m\u001b[0mb\u001b[0m\u001b[0;34m)\u001b[0m \u001b[0;34m*\u001b[0m \u001b[0mself\u001b[0m\u001b[0;34m.\u001b[0m\u001b[0mBeta\u001b[0m\u001b[0;34m(\u001b[0m\u001b[0;36m10.\u001b[0m\u001b[0;34m/\u001b[0m\u001b[0ma\u001b[0m\u001b[0;34m,\u001b[0m \u001b[0mb\u001b[0m\u001b[0;34m)\u001b[0m\u001b[0;34m\u001b[0m\u001b[0;34m\u001b[0m\u001b[0m\n\u001b[0m\u001b[1;32m     60\u001b[0m         \u001b[0mkl\u001b[0m \u001b[0;34m*=\u001b[0m \u001b[0;34m(\u001b[0m\u001b[0mprior_beta\u001b[0m\u001b[0;34m-\u001b[0m\u001b[0;36m1\u001b[0m\u001b[0;34m)\u001b[0m\u001b[0;34m*\u001b[0m\u001b[0mb\u001b[0m\u001b[0;34m\u001b[0m\u001b[0;34m\u001b[0m\u001b[0m\n\u001b[1;32m     61\u001b[0m \u001b[0;34m\u001b[0m\u001b[0m\n",
            "\u001b[0;32m/usr/local/lib/python3.6/dist-packages/torch/tensor.py\u001b[0m in \u001b[0;36m__rdiv__\u001b[0;34m(self, other)\u001b[0m\n\u001b[1;32m    364\u001b[0m     \u001b[0;32mdef\u001b[0m \u001b[0m__rdiv__\u001b[0m\u001b[0;34m(\u001b[0m\u001b[0mself\u001b[0m\u001b[0;34m,\u001b[0m \u001b[0mother\u001b[0m\u001b[0;34m)\u001b[0m\u001b[0;34m:\u001b[0m\u001b[0;34m\u001b[0m\u001b[0;34m\u001b[0m\u001b[0m\n\u001b[1;32m    365\u001b[0m         \u001b[0;32mif\u001b[0m \u001b[0mself\u001b[0m\u001b[0;34m.\u001b[0m\u001b[0mdtype\u001b[0m\u001b[0;34m.\u001b[0m\u001b[0mis_floating_point\u001b[0m\u001b[0;34m:\u001b[0m\u001b[0;34m\u001b[0m\u001b[0;34m\u001b[0m\u001b[0m\n\u001b[0;32m--> 366\u001b[0;31m             \u001b[0;32mreturn\u001b[0m \u001b[0mself\u001b[0m\u001b[0;34m.\u001b[0m\u001b[0mreciprocal\u001b[0m\u001b[0;34m(\u001b[0m\u001b[0;34m)\u001b[0m \u001b[0;34m*\u001b[0m \u001b[0mother\u001b[0m\u001b[0;34m\u001b[0m\u001b[0;34m\u001b[0m\u001b[0m\n\u001b[0m\u001b[1;32m    367\u001b[0m         \u001b[0;32melse\u001b[0m\u001b[0;34m:\u001b[0m\u001b[0;34m\u001b[0m\u001b[0;34m\u001b[0m\u001b[0m\n\u001b[1;32m    368\u001b[0m             \u001b[0;32mreturn\u001b[0m \u001b[0;34m(\u001b[0m\u001b[0mself\u001b[0m\u001b[0;34m.\u001b[0m\u001b[0mdouble\u001b[0m\u001b[0;34m(\u001b[0m\u001b[0;34m)\u001b[0m\u001b[0;34m.\u001b[0m\u001b[0mreciprocal\u001b[0m\u001b[0;34m(\u001b[0m\u001b[0;34m)\u001b[0m \u001b[0;34m*\u001b[0m \u001b[0mother\u001b[0m\u001b[0;34m)\u001b[0m\u001b[0;34m.\u001b[0m\u001b[0mtype_as\u001b[0m\u001b[0;34m(\u001b[0m\u001b[0mself\u001b[0m\u001b[0;34m)\u001b[0m\u001b[0;34m\u001b[0m\u001b[0;34m\u001b[0m\u001b[0m\n",
            "\u001b[0;32m/usr/lib/python3.6/traceback.py\u001b[0m in \u001b[0;36mformat_stack\u001b[0;34m(f, limit)\u001b[0m\n\u001b[1;32m    195\u001b[0m     \u001b[0;32mif\u001b[0m \u001b[0mf\u001b[0m \u001b[0;32mis\u001b[0m \u001b[0;32mNone\u001b[0m\u001b[0;34m:\u001b[0m\u001b[0;34m\u001b[0m\u001b[0;34m\u001b[0m\u001b[0m\n\u001b[1;32m    196\u001b[0m         \u001b[0mf\u001b[0m \u001b[0;34m=\u001b[0m \u001b[0msys\u001b[0m\u001b[0;34m.\u001b[0m\u001b[0m_getframe\u001b[0m\u001b[0;34m(\u001b[0m\u001b[0;34m)\u001b[0m\u001b[0;34m.\u001b[0m\u001b[0mf_back\u001b[0m\u001b[0;34m\u001b[0m\u001b[0;34m\u001b[0m\u001b[0m\n\u001b[0;32m--> 197\u001b[0;31m     \u001b[0;32mreturn\u001b[0m \u001b[0mformat_list\u001b[0m\u001b[0;34m(\u001b[0m\u001b[0mextract_stack\u001b[0m\u001b[0;34m(\u001b[0m\u001b[0mf\u001b[0m\u001b[0;34m,\u001b[0m \u001b[0mlimit\u001b[0m\u001b[0;34m=\u001b[0m\u001b[0mlimit\u001b[0m\u001b[0;34m)\u001b[0m\u001b[0;34m)\u001b[0m\u001b[0;34m\u001b[0m\u001b[0;34m\u001b[0m\u001b[0m\n\u001b[0m\u001b[1;32m    198\u001b[0m \u001b[0;34m\u001b[0m\u001b[0m\n\u001b[1;32m    199\u001b[0m \u001b[0;34m\u001b[0m\u001b[0m\n",
            "\u001b[0;32m/usr/lib/python3.6/traceback.py\u001b[0m in \u001b[0;36mextract_stack\u001b[0;34m(f, limit)\u001b[0m\n\u001b[1;32m    209\u001b[0m     \u001b[0;32mif\u001b[0m \u001b[0mf\u001b[0m \u001b[0;32mis\u001b[0m \u001b[0;32mNone\u001b[0m\u001b[0;34m:\u001b[0m\u001b[0;34m\u001b[0m\u001b[0;34m\u001b[0m\u001b[0m\n\u001b[1;32m    210\u001b[0m         \u001b[0mf\u001b[0m \u001b[0;34m=\u001b[0m \u001b[0msys\u001b[0m\u001b[0;34m.\u001b[0m\u001b[0m_getframe\u001b[0m\u001b[0;34m(\u001b[0m\u001b[0;34m)\u001b[0m\u001b[0;34m.\u001b[0m\u001b[0mf_back\u001b[0m\u001b[0;34m\u001b[0m\u001b[0;34m\u001b[0m\u001b[0m\n\u001b[0;32m--> 211\u001b[0;31m     \u001b[0mstack\u001b[0m \u001b[0;34m=\u001b[0m \u001b[0mStackSummary\u001b[0m\u001b[0;34m.\u001b[0m\u001b[0mextract\u001b[0m\u001b[0;34m(\u001b[0m\u001b[0mwalk_stack\u001b[0m\u001b[0;34m(\u001b[0m\u001b[0mf\u001b[0m\u001b[0;34m)\u001b[0m\u001b[0;34m,\u001b[0m \u001b[0mlimit\u001b[0m\u001b[0;34m=\u001b[0m\u001b[0mlimit\u001b[0m\u001b[0;34m)\u001b[0m\u001b[0;34m\u001b[0m\u001b[0;34m\u001b[0m\u001b[0m\n\u001b[0m\u001b[1;32m    212\u001b[0m     \u001b[0mstack\u001b[0m\u001b[0;34m.\u001b[0m\u001b[0mreverse\u001b[0m\u001b[0;34m(\u001b[0m\u001b[0;34m)\u001b[0m\u001b[0;34m\u001b[0m\u001b[0;34m\u001b[0m\u001b[0m\n\u001b[1;32m    213\u001b[0m     \u001b[0;32mreturn\u001b[0m \u001b[0mstack\u001b[0m\u001b[0;34m\u001b[0m\u001b[0;34m\u001b[0m\u001b[0m\n",
            "\u001b[0;32m/usr/lib/python3.6/traceback.py\u001b[0m in \u001b[0;36mextract\u001b[0;34m(klass, frame_gen, limit, lookup_lines, capture_locals)\u001b[0m\n\u001b[1;32m    358\u001b[0m                 filename, lineno, name, lookup_line=False, locals=f_locals))\n\u001b[1;32m    359\u001b[0m         \u001b[0;32mfor\u001b[0m \u001b[0mfilename\u001b[0m \u001b[0;32min\u001b[0m \u001b[0mfnames\u001b[0m\u001b[0;34m:\u001b[0m\u001b[0;34m\u001b[0m\u001b[0;34m\u001b[0m\u001b[0m\n\u001b[0;32m--> 360\u001b[0;31m             \u001b[0mlinecache\u001b[0m\u001b[0;34m.\u001b[0m\u001b[0mcheckcache\u001b[0m\u001b[0;34m(\u001b[0m\u001b[0mfilename\u001b[0m\u001b[0;34m)\u001b[0m\u001b[0;34m\u001b[0m\u001b[0;34m\u001b[0m\u001b[0m\n\u001b[0m\u001b[1;32m    361\u001b[0m         \u001b[0;31m# If immediate lookup was desired, trigger lookups now.\u001b[0m\u001b[0;34m\u001b[0m\u001b[0;34m\u001b[0m\u001b[0;34m\u001b[0m\u001b[0m\n\u001b[1;32m    362\u001b[0m         \u001b[0;32mif\u001b[0m \u001b[0mlookup_lines\u001b[0m\u001b[0;34m:\u001b[0m\u001b[0;34m\u001b[0m\u001b[0;34m\u001b[0m\u001b[0m\n",
            "\u001b[0;32m/usr/local/lib/python3.6/dist-packages/IPython/core/compilerop.py\u001b[0m in \u001b[0;36mcheck_linecache_ipython\u001b[0;34m(*args)\u001b[0m\n\u001b[1;32m    139\u001b[0m     \"\"\"\n\u001b[1;32m    140\u001b[0m     \u001b[0;31m# First call the orignal checkcache as intended\u001b[0m\u001b[0;34m\u001b[0m\u001b[0;34m\u001b[0m\u001b[0;34m\u001b[0m\u001b[0m\n\u001b[0;32m--> 141\u001b[0;31m     \u001b[0mlinecache\u001b[0m\u001b[0;34m.\u001b[0m\u001b[0m_checkcache_ori\u001b[0m\u001b[0;34m(\u001b[0m\u001b[0;34m*\u001b[0m\u001b[0margs\u001b[0m\u001b[0;34m)\u001b[0m\u001b[0;34m\u001b[0m\u001b[0;34m\u001b[0m\u001b[0m\n\u001b[0m\u001b[1;32m    142\u001b[0m     \u001b[0;31m# Then, update back the cache with our data, so that tracebacks related\u001b[0m\u001b[0;34m\u001b[0m\u001b[0;34m\u001b[0m\u001b[0;34m\u001b[0m\u001b[0m\n\u001b[1;32m    143\u001b[0m     \u001b[0;31m# to our compiled codes can be produced.\u001b[0m\u001b[0;34m\u001b[0m\u001b[0;34m\u001b[0m\u001b[0;34m\u001b[0m\u001b[0m\n",
            "\u001b[0;32m/usr/lib/python3.6/linecache.py\u001b[0m in \u001b[0;36mcheckcache\u001b[0;34m(filename)\u001b[0m\n\u001b[1;32m     55\u001b[0m     (This is not checked upon each call!)\"\"\"\n\u001b[1;32m     56\u001b[0m \u001b[0;34m\u001b[0m\u001b[0m\n\u001b[0;32m---> 57\u001b[0;31m     \u001b[0;32mif\u001b[0m \u001b[0mfilename\u001b[0m \u001b[0;32mis\u001b[0m \u001b[0;32mNone\u001b[0m\u001b[0;34m:\u001b[0m\u001b[0;34m\u001b[0m\u001b[0;34m\u001b[0m\u001b[0m\n\u001b[0m\u001b[1;32m     58\u001b[0m         \u001b[0mfilenames\u001b[0m \u001b[0;34m=\u001b[0m \u001b[0mlist\u001b[0m\u001b[0;34m(\u001b[0m\u001b[0mcache\u001b[0m\u001b[0;34m.\u001b[0m\u001b[0mkeys\u001b[0m\u001b[0;34m(\u001b[0m\u001b[0;34m)\u001b[0m\u001b[0;34m)\u001b[0m\u001b[0;34m\u001b[0m\u001b[0;34m\u001b[0m\u001b[0m\n\u001b[1;32m     59\u001b[0m     \u001b[0;32melse\u001b[0m\u001b[0;34m:\u001b[0m\u001b[0;34m\u001b[0m\u001b[0;34m\u001b[0m\u001b[0m\n",
            "\u001b[0;31mKeyboardInterrupt\u001b[0m: "
          ]
        }
      ]
    },
    {
      "cell_type": "code",
      "metadata": {
        "id": "n5aDfJvHXxkT",
        "colab_type": "code",
        "colab": {
          "base_uri": "https://localhost:8080/",
          "height": 297
        },
        "outputId": "e1507539-0ecd-4625-97bc-51b0dc3bd4d8"
      },
      "source": [
        "sbvae.visualize_embeddings(-1)"
      ],
      "execution_count": 104,
      "outputs": [
        {
          "output_type": "display_data",
          "data": {
            "image/png": "[encoded data removed]",
            "text/plain": [
              "<Figure size 432x288 with 1 Axes>"
            ]
          },
          "metadata": {
            "tags": []
          }
        }
      ]
    },
    {
      "cell_type": "code",
      "metadata": {
        "id": "YKYqCYa9XxkZ",
        "colab_type": "code",
        "colab": {}
      },
      "source": [
        ""
      ],
      "execution_count": 0,
      "outputs": []
    }
  ]
}