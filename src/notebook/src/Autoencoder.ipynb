{
 "cells": [
  {
   "cell_type": "code",
   "execution_count": 2,
   "metadata": {},
   "outputs": [
    {
     "data": {
      "text/plain": [
       "<torch.autograd.anomaly_mode.set_detect_anomaly at 0x7f1d953022b0>"
      ]
     },
     "execution_count": 2,
     "metadata": {},
     "output_type": "execute_result"
    }
   ],
   "source": [
    "from __future__ import print_function\n",
    "import argparse\n",
    "import torch\n",
    "import torch.nn as nn\n",
    "import torch.nn.functional as F\n",
    "import torch.optim as optim\n",
    "import torchvision\n",
    "from torchvision import datasets, transforms\n",
    "from torch.optim.lr_scheduler import StepLR\n",
    "from datetime import datetime\n",
    "\n",
    "from multiprocessing import cpu_count\n",
    "\n",
    "from torch.utils.tensorboard import SummaryWriter\n",
    "from torch.utils.data import Subset, DataLoader\n",
    "\n",
    "from torch.distributions import *\n",
    "\n",
    "import skorch\n",
    "\n",
    "%load_ext tensorboard\n",
    "torch.autograd.set_detect_anomaly(True)"
   ]
  },
  {
   "cell_type": "markdown",
   "metadata": {},
   "source": [
    "## Dataset"
   ]
  },
  {
   "cell_type": "code",
   "execution_count": 3,
   "metadata": {},
   "outputs": [
    {
     "name": "stderr",
     "output_type": "stream",
     "text": [
      "0it [00:00, ?it/s]"
     ]
    },
    {
     "name": "stdout",
     "output_type": "stream",
     "text": [
      "Downloading http://yann.lecun.com/exdb/mnist/train-images-idx3-ubyte.gz to /data/MNIST/raw/train-images-idx3-ubyte.gz\n"
     ]
    },
    {
     "name": "stderr",
     "output_type": "stream",
     "text": [
      "9920512it [00:09, 1031265.59it/s]                             \n"
     ]
    },
    {
     "name": "stdout",
     "output_type": "stream",
     "text": [
      "Extracting /data/MNIST/raw/train-images-idx3-ubyte.gz to /data/MNIST/raw\n"
     ]
    },
    {
     "name": "stderr",
     "output_type": "stream",
     "text": [
      "0it [00:00, ?it/s]"
     ]
    },
    {
     "name": "stdout",
     "output_type": "stream",
     "text": [
      "Downloading http://yann.lecun.com/exdb/mnist/train-labels-idx1-ubyte.gz to /data/MNIST/raw/train-labels-idx1-ubyte.gz\n"
     ]
    },
    {
     "name": "stderr",
     "output_type": "stream",
     "text": [
      "32768it [00:00, 50694.81it/s]                            \n",
      "0it [00:00, ?it/s]"
     ]
    },
    {
     "name": "stdout",
     "output_type": "stream",
     "text": [
      "Extracting /data/MNIST/raw/train-labels-idx1-ubyte.gz to /data/MNIST/raw\n",
      "Downloading http://yann.lecun.com/exdb/mnist/t10k-images-idx3-ubyte.gz to /data/MNIST/raw/t10k-images-idx3-ubyte.gz\n"
     ]
    },
    {
     "name": "stderr",
     "output_type": "stream",
     "text": [
      "1654784it [00:02, 739497.21it/s]                             \n",
      "0it [00:00, ?it/s]"
     ]
    },
    {
     "name": "stdout",
     "output_type": "stream",
     "text": [
      "Extracting /data/MNIST/raw/t10k-images-idx3-ubyte.gz to /data/MNIST/raw\n",
      "Downloading http://yann.lecun.com/exdb/mnist/t10k-labels-idx1-ubyte.gz to /data/MNIST/raw/t10k-labels-idx1-ubyte.gz\n"
     ]
    },
    {
     "name": "stderr",
     "output_type": "stream",
     "text": [
      "8192it [00:00, 21996.20it/s]            \n"
     ]
    },
    {
     "name": "stdout",
     "output_type": "stream",
     "text": [
      "Extracting /data/MNIST/raw/t10k-labels-idx1-ubyte.gz to /data/MNIST/raw\n",
      "Processing...\n",
      "Done!\n"
     ]
    }
   ],
   "source": [
    "use_cuda = torch.cuda.is_available()\n",
    "\n",
    "device = torch.device(\"cuda\" if use_cuda else \"cpu\")\n",
    "\n",
    "kwargs = {'num_workers': cpu_count(), 'pin_memory': True} if use_cuda else {}\n",
    "train_loader = DataLoader(Subset(\n",
    "    datasets.MNIST('/data', train=True, download=True,\n",
    "                   transform=transforms.Compose([\n",
    "                       transforms.ToTensor(),\n",
    "                       transforms.Normalize((0.1307,), (0.3081,))\n",
    "                   ])), indices=range(10000)),\n",
    "    batch_size=64, shuffle=True, **kwargs)\n",
    "test_loader = DataLoader(Subset(\n",
    "    datasets.MNIST('/data', train=False, transform=transforms.Compose([\n",
    "                       transforms.ToTensor(),\n",
    "                       transforms.Normalize((0.1307,), (0.3081,))\n",
    "                   ])), indices=range(10000)),\n",
    "    batch_size=1000, shuffle=True, **kwargs)"
   ]
  },
  {
   "cell_type": "markdown",
   "metadata": {},
   "source": [
    "## Generic autoencoder class"
   ]
  },
  {
   "cell_type": "code",
   "execution_count": 7,
   "metadata": {},
   "outputs": [],
   "source": [
    "class Autoencoder(nn.Module):\n",
    "    def __init__(self):\n",
    "        super(Autoencoder, self).__init__()\n",
    "        now = datetime.now()\n",
    "        current_time = now.strftime(\"%Y%m%d-%H%M%S\")\n",
    "        self.writer = SummaryWriter(log_dir=\"/data/runs/\"+current_time)\n",
    "    \n",
    "    def trains(self, device, train_loader, optimizer, epoch):\n",
    "        self.train()\n",
    "        loss_sum = 0\n",
    "        for batch_idx, (data, target) in enumerate(train_loader):\n",
    "            data, target = data.to(device), target.to(device)\n",
    "            optimizer.zero_grad()\n",
    "            loss = self.compute_loss_train(data, target)\n",
    "            loss.backward()\n",
    "            optimizer.step()\n",
    "            loss_sum += loss.item()\n",
    "            if batch_idx % 10 == 0:\n",
    "                print('Train Epoch: {} [{}/{} ({:.0f}%)]\\tLoss: {:.6f}'.format(\n",
    "                    epoch, batch_idx * len(data), len(train_loader.dataset),\n",
    "                    100. * batch_idx / len(train_loader), loss.item()))\n",
    "            self.writer.add_scalar('Loss/train', loss.item(), epoch*len(train_loader)+batch_idx)\n",
    "            \n",
    "    def tests(self, device, test_loader):\n",
    "        self.eval()\n",
    "        test_loss = 0\n",
    "        correct = 0\n",
    "        with torch.no_grad():\n",
    "            for data, target in test_loader:\n",
    "                data, target = data.to(device), target.to(device)\n",
    "                loss, output = self.compute_loss_test(data, target)\n",
    "                test_loss += loss\n",
    "                pred = output.argmax(dim=1, keepdim=True)  # get the index of the max log-probability\n",
    "                correct += pred.eq(target.view_as(pred)).sum().item()\n",
    "\n",
    "        test_loss /= len(test_loader.dataset)\n",
    "\n",
    "        print('\\nTest set: Average loss: {:.4f}, Accuracy: {}/{} ({:.0f}%)\\n'.format(\n",
    "            test_loss, correct, len(test_loader.dataset),\n",
    "            100. * correct / len(test_loader.dataset)))"
   ]
  },
  {
   "cell_type": "markdown",
   "metadata": {},
   "source": [
    "## Autoencoder"
   ]
  },
  {
   "cell_type": "code",
   "execution_count": 8,
   "metadata": {},
   "outputs": [],
   "source": [
    "class SimpleAutoencoder(Autoencoder):\n",
    "    def __init__(self):\n",
    "        super(SimpleAutoencoder, self).__init__()\n",
    "        self.conv1 = nn.Conv2d(1, 32, 3, 1)\n",
    "        self.conv2 = nn.Conv2d(32, 64, 3, 1)\n",
    "        self.dropout1 = nn.Dropout2d(0.25)\n",
    "        self.dropout2 = nn.Dropout2d(0.5)\n",
    "        self.fc1 = nn.Linear(9216, 128)\n",
    "        self.fc2 = nn.Linear(128, 10)\n",
    "\n",
    "    def forward(self, x):\n",
    "        x = self.conv1(x)\n",
    "        x = F.relu(x)\n",
    "        x = self.conv2(x)\n",
    "        x = F.max_pool2d(x, 2)\n",
    "        x = self.dropout1(x)\n",
    "        x = torch.flatten(x, 1)\n",
    "        x = self.fc1(x)\n",
    "        x = F.relu(x)\n",
    "        x = self.dropout2(x)\n",
    "        x = self.fc2(x)\n",
    "        output = F.log_softmax(x, dim=1)\n",
    "        return output       \n",
    "    \n",
    "    def compute_loss_train(self, data, target):\n",
    "        output = self(data)\n",
    "        return F.nll_loss(output, target)\n",
    "    \n",
    "    def compute_loss_test(self, data, target):\n",
    "        output = self(data)\n",
    "        return F.nll_loss(output, target, reduction='sum').item(), output  # sum up batch loss"
   ]
  },
  {
   "cell_type": "code",
   "execution_count": 9,
   "metadata": {},
   "outputs": [
    {
     "name": "stdout",
     "output_type": "stream",
     "text": [
      "Train Epoch: 1 [0/10000 (0%)]\tLoss: 2.291134\n",
      "Train Epoch: 1 [640/10000 (6%)]\tLoss: 1.352269\n",
      "Train Epoch: 1 [1280/10000 (13%)]\tLoss: 0.935395\n",
      "Train Epoch: 1 [1920/10000 (19%)]\tLoss: 0.671355\n",
      "Train Epoch: 1 [2560/10000 (25%)]\tLoss: 0.555808\n",
      "Train Epoch: 1 [3200/10000 (32%)]\tLoss: 0.276792\n",
      "Train Epoch: 1 [3840/10000 (38%)]\tLoss: 0.350703\n",
      "Train Epoch: 1 [4480/10000 (45%)]\tLoss: 0.517797\n",
      "Train Epoch: 1 [5120/10000 (51%)]\tLoss: 0.378069\n",
      "Train Epoch: 1 [5760/10000 (57%)]\tLoss: 0.604044\n",
      "Train Epoch: 1 [6400/10000 (64%)]\tLoss: 0.415700\n",
      "Train Epoch: 1 [7040/10000 (70%)]\tLoss: 0.373399\n",
      "Train Epoch: 1 [7680/10000 (76%)]\tLoss: 0.344828\n",
      "Train Epoch: 1 [8320/10000 (83%)]\tLoss: 0.210124\n",
      "Train Epoch: 1 [8960/10000 (89%)]\tLoss: 0.387064\n"
     ]
    },
    {
     "ename": "KeyboardInterrupt",
     "evalue": "",
     "output_type": "error",
     "traceback": [
      "\u001b[0;31m---------------------------------------------------------------------------\u001b[0m",
      "\u001b[0;31mKeyboardInterrupt\u001b[0m                         Traceback (most recent call last)",
      "\u001b[0;32m<ipython-input-9-2eebc719d3ca>\u001b[0m in \u001b[0;36m<module>\u001b[0;34m\u001b[0m\n\u001b[1;32m     14\u001b[0m \u001b[0mscheduler\u001b[0m \u001b[0;34m=\u001b[0m \u001b[0mStepLR\u001b[0m\u001b[0;34m(\u001b[0m\u001b[0moptimizer\u001b[0m\u001b[0;34m,\u001b[0m \u001b[0mstep_size\u001b[0m\u001b[0;34m=\u001b[0m\u001b[0;36m1\u001b[0m\u001b[0;34m)\u001b[0m\u001b[0;34m\u001b[0m\u001b[0;34m\u001b[0m\u001b[0m\n\u001b[1;32m     15\u001b[0m \u001b[0;32mfor\u001b[0m \u001b[0mepoch\u001b[0m \u001b[0;32min\u001b[0m \u001b[0mrange\u001b[0m\u001b[0;34m(\u001b[0m\u001b[0;36m1\u001b[0m\u001b[0;34m,\u001b[0m \u001b[0;36m14\u001b[0m \u001b[0;34m+\u001b[0m \u001b[0;36m1\u001b[0m\u001b[0;34m)\u001b[0m\u001b[0;34m:\u001b[0m\u001b[0;34m\u001b[0m\u001b[0;34m\u001b[0m\u001b[0m\n\u001b[0;32m---> 16\u001b[0;31m     \u001b[0mmodel\u001b[0m\u001b[0;34m.\u001b[0m\u001b[0mtrains\u001b[0m\u001b[0;34m(\u001b[0m\u001b[0mdevice\u001b[0m\u001b[0;34m,\u001b[0m \u001b[0mtrain_loader\u001b[0m\u001b[0;34m,\u001b[0m \u001b[0moptimizer\u001b[0m\u001b[0;34m,\u001b[0m \u001b[0mepoch\u001b[0m\u001b[0;34m)\u001b[0m\u001b[0;34m\u001b[0m\u001b[0;34m\u001b[0m\u001b[0m\n\u001b[0m\u001b[1;32m     17\u001b[0m     \u001b[0mmodel\u001b[0m\u001b[0;34m.\u001b[0m\u001b[0mtests\u001b[0m\u001b[0;34m(\u001b[0m\u001b[0mdevice\u001b[0m\u001b[0;34m,\u001b[0m \u001b[0mtest_loader\u001b[0m\u001b[0;34m)\u001b[0m\u001b[0;34m\u001b[0m\u001b[0;34m\u001b[0m\u001b[0m\n\u001b[1;32m     18\u001b[0m     \u001b[0mscheduler\u001b[0m\u001b[0;34m.\u001b[0m\u001b[0mstep\u001b[0m\u001b[0;34m(\u001b[0m\u001b[0;34m)\u001b[0m\u001b[0;34m\u001b[0m\u001b[0;34m\u001b[0m\u001b[0m\n",
      "\u001b[0;32m<ipython-input-7-10b9198cc619>\u001b[0m in \u001b[0;36mtrains\u001b[0;34m(self, device, train_loader, optimizer, epoch)\u001b[0m\n\u001b[1;32m     13\u001b[0m             \u001b[0moptimizer\u001b[0m\u001b[0;34m.\u001b[0m\u001b[0mzero_grad\u001b[0m\u001b[0;34m(\u001b[0m\u001b[0;34m)\u001b[0m\u001b[0;34m\u001b[0m\u001b[0;34m\u001b[0m\u001b[0m\n\u001b[1;32m     14\u001b[0m             \u001b[0mloss\u001b[0m \u001b[0;34m=\u001b[0m \u001b[0mself\u001b[0m\u001b[0;34m.\u001b[0m\u001b[0mcompute_loss_train\u001b[0m\u001b[0;34m(\u001b[0m\u001b[0mdata\u001b[0m\u001b[0;34m,\u001b[0m \u001b[0mtarget\u001b[0m\u001b[0;34m)\u001b[0m\u001b[0;34m\u001b[0m\u001b[0;34m\u001b[0m\u001b[0m\n\u001b[0;32m---> 15\u001b[0;31m             \u001b[0mloss\u001b[0m\u001b[0;34m.\u001b[0m\u001b[0mbackward\u001b[0m\u001b[0;34m(\u001b[0m\u001b[0;34m)\u001b[0m\u001b[0;34m\u001b[0m\u001b[0;34m\u001b[0m\u001b[0m\n\u001b[0m\u001b[1;32m     16\u001b[0m             \u001b[0moptimizer\u001b[0m\u001b[0;34m.\u001b[0m\u001b[0mstep\u001b[0m\u001b[0;34m(\u001b[0m\u001b[0;34m)\u001b[0m\u001b[0;34m\u001b[0m\u001b[0;34m\u001b[0m\u001b[0m\n\u001b[1;32m     17\u001b[0m             \u001b[0mloss_sum\u001b[0m \u001b[0;34m+=\u001b[0m \u001b[0mloss\u001b[0m\u001b[0;34m.\u001b[0m\u001b[0mitem\u001b[0m\u001b[0;34m(\u001b[0m\u001b[0;34m)\u001b[0m\u001b[0;34m\u001b[0m\u001b[0;34m\u001b[0m\u001b[0m\n",
      "\u001b[0;32m/opt/conda/lib/python3.6/site-packages/torch/tensor.py\u001b[0m in \u001b[0;36mbackward\u001b[0;34m(self, gradient, retain_graph, create_graph)\u001b[0m\n\u001b[1;32m    148\u001b[0m                 \u001b[0mproducts\u001b[0m\u001b[0;34m.\u001b[0m \u001b[0mDefaults\u001b[0m \u001b[0mto\u001b[0m\u001b[0;31m \u001b[0m\u001b[0;31m`\u001b[0m\u001b[0;31m`\u001b[0m\u001b[0;32mFalse\u001b[0m\u001b[0;31m`\u001b[0m\u001b[0;31m`\u001b[0m\u001b[0;34m.\u001b[0m\u001b[0;34m\u001b[0m\u001b[0;34m\u001b[0m\u001b[0m\n\u001b[1;32m    149\u001b[0m         \"\"\"\n\u001b[0;32m--> 150\u001b[0;31m         \u001b[0mtorch\u001b[0m\u001b[0;34m.\u001b[0m\u001b[0mautograd\u001b[0m\u001b[0;34m.\u001b[0m\u001b[0mbackward\u001b[0m\u001b[0;34m(\u001b[0m\u001b[0mself\u001b[0m\u001b[0;34m,\u001b[0m \u001b[0mgradient\u001b[0m\u001b[0;34m,\u001b[0m \u001b[0mretain_graph\u001b[0m\u001b[0;34m,\u001b[0m \u001b[0mcreate_graph\u001b[0m\u001b[0;34m)\u001b[0m\u001b[0;34m\u001b[0m\u001b[0;34m\u001b[0m\u001b[0m\n\u001b[0m\u001b[1;32m    151\u001b[0m \u001b[0;34m\u001b[0m\u001b[0m\n\u001b[1;32m    152\u001b[0m     \u001b[0;32mdef\u001b[0m \u001b[0mregister_hook\u001b[0m\u001b[0;34m(\u001b[0m\u001b[0mself\u001b[0m\u001b[0;34m,\u001b[0m \u001b[0mhook\u001b[0m\u001b[0;34m)\u001b[0m\u001b[0;34m:\u001b[0m\u001b[0;34m\u001b[0m\u001b[0;34m\u001b[0m\u001b[0m\n",
      "\u001b[0;32m/opt/conda/lib/python3.6/site-packages/torch/autograd/__init__.py\u001b[0m in \u001b[0;36mbackward\u001b[0;34m(tensors, grad_tensors, retain_graph, create_graph, grad_variables)\u001b[0m\n\u001b[1;32m     97\u001b[0m     Variable._execution_engine.run_backward(\n\u001b[1;32m     98\u001b[0m         \u001b[0mtensors\u001b[0m\u001b[0;34m,\u001b[0m \u001b[0mgrad_tensors\u001b[0m\u001b[0;34m,\u001b[0m \u001b[0mretain_graph\u001b[0m\u001b[0;34m,\u001b[0m \u001b[0mcreate_graph\u001b[0m\u001b[0;34m,\u001b[0m\u001b[0;34m\u001b[0m\u001b[0;34m\u001b[0m\u001b[0m\n\u001b[0;32m---> 99\u001b[0;31m         allow_unreachable=True)  # allow_unreachable flag\n\u001b[0m\u001b[1;32m    100\u001b[0m \u001b[0;34m\u001b[0m\u001b[0m\n\u001b[1;32m    101\u001b[0m \u001b[0;34m\u001b[0m\u001b[0m\n",
      "\u001b[0;31mKeyboardInterrupt\u001b[0m: "
     ]
    }
   ],
   "source": [
    "model = SimpleAutoencoder().to(device)\n",
    "optimizer = optim.Adadelta(model.parameters())\n",
    "\n",
    "# plot model\n",
    "dataiter = iter(train_loader)\n",
    "images, labels = dataiter.next()\n",
    "\n",
    "# create grid of images\n",
    "img_grid = torchvision.utils.make_grid(images)\n",
    "\n",
    "# write to tensorboard\n",
    "#writer.add_image('mnist_images', img_grid)\n",
    "\n",
    "scheduler = StepLR(optimizer, step_size=1)\n",
    "for epoch in range(1, 14 + 1):\n",
    "    model.trains(device, train_loader, optimizer, epoch)\n",
    "    model.tests(device, test_loader)\n",
    "    scheduler.step()"
   ]
  },
  {
   "cell_type": "markdown",
   "metadata": {},
   "source": [
    "## Gaussian Variational Autoencoder"
   ]
  },
  {
   "cell_type": "code",
   "execution_count": null,
   "metadata": {},
   "outputs": [],
   "source": [
    "class VAE(Autoencoder):\n",
    "    def __init__(self):\n",
    "        super(VAE, self).__init__()\n",
    "        \n",
    "        self.conv1 = nn.Conv2d(1, 32, 3, 1)\n",
    "        self.conv2 = nn.Conv2d(32, 64, 3, 1)\n",
    "        self.dropout1 = nn.Dropout2d(0.25)\n",
    "        self.dropout2 = nn.Dropout2d(0.5)\n",
    "\n",
    "        self.fc1 = nn.Linear(9216, 400)\n",
    "        self.fc21 = nn.Linear(400, 20)\n",
    "        self.fc22 = nn.Linear(400, 20)\n",
    "        self.fc3 = nn.Linear(20, 400)\n",
    "        self.fc4 = nn.Linear(400, 784)\n",
    "\n",
    "    def encode(self, x):\n",
    "        x = self.conv1(x)\n",
    "        x = F.relu(x)\n",
    "        x = self.conv2(x)\n",
    "        x = F.max_pool2d(x, 2)\n",
    "        x = self.dropout1(x)\n",
    "        x = torch.flatten(x, 1)\n",
    "        h1 = F.relu(self.fc1(x))\n",
    "        return self.fc21(h1), self.fc22(h1)\n",
    "\n",
    "    def reparameterize(self, mu, logvar):\n",
    "        std = torch.exp(0.5*logvar)\n",
    "        eps = torch.randn_like(std)\n",
    "        return mu + eps*std\n",
    "\n",
    "    def decode(self, z):\n",
    "        h3 = F.relu(self.fc3(z))\n",
    "        return torch.sigmoid(self.fc4(h3))\n",
    "\n",
    "    def forward(self, x):\n",
    "        mu, logvar = self.encode(x)\n",
    "        z = self.reparameterize(mu, logvar)\n",
    "        return self.decode(z), mu, logvar\n",
    "    \n",
    "    def loss_function(self, recon_x, x, mu, logvar):\n",
    "        BCE = F.binary_cross_entropy(recon_x, x.view(-1, 784), reduction='sum')\n",
    "\n",
    "        # see Appendix B from VAE paper:\n",
    "        # Kingma and Welling. Auto-Encoding Variational Bayes. ICLR, 2014\n",
    "        # https://arxiv.org/abs/1312.6114\n",
    "        # 0.5 * sum(1 + log(sigma^2) - mu^2 - sigma^2)\n",
    "        KLD = -0.5 * torch.sum(1 + logvar - mu.pow(2) - logvar.exp())\n",
    "\n",
    "        return BCE + KLD\n",
    "    \n",
    "    def compute_loss_train(self, data, target):\n",
    "        recon_batch, mu, logvar = self(data)\n",
    "        return self.loss_function(recon_batch, data, mu, logvar)\n",
    "    \n",
    "    def compute_loss_test(self, data, target):\n",
    "        recon_batch, mu, logvar = self(data)\n",
    "        return self.loss_function(recon_batch, data, mu, logvar).item(), recon_batch  # sum up batch loss"
   ]
  },
  {
   "cell_type": "code",
   "execution_count": null,
   "metadata": {},
   "outputs": [],
   "source": [
    "model = VAE().to(device)\n",
    "optimizer = optim.Adam(model.parameters(), lr=1e-3)\n",
    "\n",
    "\n",
    "scheduler = StepLR(optimizer, step_size=1)\n",
    "for epoch in range(1, 14 + 1):\n",
    "    model.trains(device, train_loader, optimizer, epoch)\n",
    "    model.tests(device, test_loader)\n",
    "    scheduler.step()"
   ]
  },
  {
   "cell_type": "markdown",
   "metadata": {},
   "source": [
    "## Stick-breaking process"
   ]
  },
  {
   "cell_type": "code",
   "execution_count": null,
   "metadata": {},
   "outputs": [],
   "source": [
    "def stickbreakingprocess(k, a, b):\n",
    "    uniform_samples = Uniform(torch.tensor([0.0]), torch.tensor([1.0])).rsample(torch.tensor([a.size()[0],k])).view(-1,k)\n",
    "    exp_a = 1/a\n",
    "    exp_b = 1/b\n",
    "    km = (1- uniform_samples.pow(exp_b)).pow(exp_a)\n",
    "    \n",
    "    #no Nans are allowed in the matrix\n",
    "    assert not torch.isnan(km).any().item()\n",
    "    \n",
    "    latent_variables = km.clone()\n",
    "    for i in range(1,k):\n",
    "        latent_variables[:,i] = (1-km[:,i-1])*km[:,i]\n",
    "    return latent_variables"
   ]
  },
  {
   "cell_type": "code",
   "execution_count": 377,
   "metadata": {},
   "outputs": [
    {
     "data": {
      "text/plain": [
       "tensor([4.9755, 5.9673, 5.4244, 6.5958, 5.4054, 5.2247, 5.3552, 5.8199, 4.8526,\n",
       "        4.7155])"
      ]
     },
     "execution_count": 377,
     "metadata": {},
     "output_type": "execute_result"
    }
   ],
   "source": [
    "stickbreakingprocess(20, torch.rand(10,20), torch.rand(10,20)).sum(axis=1)"
   ]
  },
  {
   "cell_type": "code",
   "execution_count": null,
   "metadata": {},
   "outputs": [],
   "source": []
  },
  {
   "cell_type": "code",
   "execution_count": 378,
   "metadata": {},
   "outputs": [
    {
     "name": "stdout",
     "output_type": "stream",
     "text": [
      "torch.Size([128, 20])\n"
     ]
    },
    {
     "data": {
      "text/plain": [
       "tensor([[0.6310, 0.7982, 0.5497,  ..., 0.9551, 0.4052, 0.6159],\n",
       "        [0.7992, 0.8711, 0.9738,  ..., 0.8562, 0.9381, 0.9507],\n",
       "        [0.8211, 0.7767, 0.9172,  ..., 0.5309, 0.9952, 0.8701],\n",
       "        ...,\n",
       "        [0.9452, 0.2655, 0.5174,  ..., 0.8715, 0.3603, 0.7503],\n",
       "        [0.4043, 0.9054, 0.7716,  ..., 0.9230, 0.8147, 0.9134],\n",
       "        [0.2544, 0.3529, 0.7620,  ..., 0.2478, 0.4003, 0.6405]])"
      ]
     },
     "execution_count": 378,
     "metadata": {},
     "output_type": "execute_result"
    }
   ],
   "source": [
    "rn = torch.rand(128, 20)\n",
    "exp = torch.stack(20*[torch.rand(128)]).T\n",
    "print(exp.size())\n",
    "torch.pow(rn, exp)"
   ]
  },
  {
   "cell_type": "markdown",
   "metadata": {},
   "source": [
    "## Stick-breaking Autoencoder"
   ]
  },
  {
   "cell_type": "code",
   "execution_count": 379,
   "metadata": {},
   "outputs": [],
   "source": [
    "class SBVAE(Autoencoder):\n",
    "    def __init__(self, k):\n",
    "        super(SBVAE, self).__init__()\n",
    "        self.k = k\n",
    "        \n",
    "        self.conv1 = nn.Conv2d(1, 32, 3, 1)\n",
    "        self.conv2 = nn.Conv2d(32, 64, 3, 1)\n",
    "        self.dropout1 = nn.Dropout2d(0.25)\n",
    "        self.dropout2 = nn.Dropout2d(0.5)\n",
    "\n",
    "        self.fc1 = nn.Linear(9216, 400)\n",
    "        self.norm = nn.BatchNorm1d(400)\n",
    "        self.fc21 = nn.Linear(400, k)\n",
    "        self.fc22 = nn.Linear(400, k)\n",
    "        \n",
    "        \n",
    "        self.fc3 = nn.Linear(20, 400)\n",
    "        self.fc4 = nn.Linear(400, 784)\n",
    "\n",
    "    def encode(self, x):\n",
    "        x = self.conv1(x)\n",
    "        x = F.relu(x)\n",
    "        x = self.conv2(x)\n",
    "        x = F.max_pool2d(x, 2)\n",
    "        x = self.dropout1(x)\n",
    "        x = torch.flatten(x, 1)\n",
    "        h1 = F.relu(self.fc1(x))\n",
    "        h1_norm = self.norm(h1)\n",
    "        return F.softplus(self.fc21(h1_norm)), F.softplus(self.fc22(h1_norm))\n",
    "\n",
    "    def reparameterize(self, a, b):\n",
    "        return stickbreakingprocess(20, a, b)\n",
    "\n",
    "    def decode(self, z):\n",
    "        h3 = F.relu(self.fc3(z))\n",
    "        return torch.sigmoid(self.fc4(h3))\n",
    "\n",
    "    def forward(self, x):\n",
    "        a, b = self.encode(x)\n",
    "        z = self.reparameterize(a, b)\n",
    "        return self.decode(z), a, b\n",
    "    \n",
    "    def loss_function(self, recon_x, x, mu, logvar):\n",
    "        BCE = F.binary_cross_entropy(recon_x, x.view(-1, 784), reduction='sum')\n",
    "\n",
    "        # see Appendix B from VAE paper:\n",
    "        # Kingma and Welling. Auto-Encoding Variational Bayes. ICLR, 2014\n",
    "        # https://arxiv.org/abs/1312.6114\n",
    "        # 0.5 * sum(1 + log(sigma^2) - mu^2 - sigma^2)\n",
    "        KLD = -0.5 * torch.sum(1 + logvar - mu.pow(2) - logvar.exp())\n",
    "\n",
    "        return BCE \n",
    "    \n",
    "    def compute_loss_train(self, data, target):\n",
    "        recon_batch, a, b = self(data)\n",
    "        return self.loss_function(recon_batch, data, a, b)\n",
    "    \n",
    "    def compute_loss_test(self, data, target):\n",
    "        recon_batch, a, b = self(data)\n",
    "        return self.loss_function(recon_batch, data, a, b).item(), recon_batch  # sum up batch loss"
   ]
  },
  {
   "cell_type": "code",
   "execution_count": null,
   "metadata": {},
   "outputs": [
    {
     "name": "stdout",
     "output_type": "stream",
     "text": [
      "Train Epoch: 1 [0/10000 (0%)]\tLoss: 34917.019531\n",
      "Train Epoch: 1 [640/10000 (6%)]\tLoss: 13923.922852\n",
      "Train Epoch: 1 [1280/10000 (13%)]\tLoss: -14046.452148\n",
      "Train Epoch: 1 [1920/10000 (19%)]\tLoss: -46873.195312\n",
      "Train Epoch: 1 [2560/10000 (25%)]\tLoss: -88523.187500\n",
      "Train Epoch: 1 [3200/10000 (32%)]\tLoss: -146552.718750\n",
      "Train Epoch: 1 [3840/10000 (38%)]\tLoss: -231216.484375\n",
      "Train Epoch: 1 [4480/10000 (45%)]\tLoss: -335954.406250\n",
      "Train Epoch: 1 [5120/10000 (51%)]\tLoss: -412340.718750\n",
      "Train Epoch: 1 [5760/10000 (57%)]\tLoss: -473755.375000\n",
      "Train Epoch: 1 [6400/10000 (64%)]\tLoss: -473197.093750\n",
      "Train Epoch: 1 [7040/10000 (70%)]\tLoss: -479289.406250\n",
      "Train Epoch: 1 [7680/10000 (76%)]\tLoss: -505992.093750\n",
      "Train Epoch: 1 [8320/10000 (83%)]\tLoss: -463762.000000\n",
      "Train Epoch: 1 [8960/10000 (89%)]\tLoss: -476709.968750\n",
      "Train Epoch: 1 [9600/10000 (96%)]\tLoss: -482667.562500\n",
      "\n",
      "Test set: Average loss: -7867.4991, Accuracy: 0/10000 (0%)\n",
      "\n",
      "Train Epoch: 2 [0/10000 (0%)]\tLoss: -494819.187500\n",
      "Train Epoch: 2 [640/10000 (6%)]\tLoss: -480384.750000\n",
      "Train Epoch: 2 [1280/10000 (13%)]\tLoss: -504390.218750\n",
      "Train Epoch: 2 [1920/10000 (19%)]\tLoss: -500031.250000\n",
      "Train Epoch: 2 [2560/10000 (25%)]\tLoss: -493236.312500\n",
      "Train Epoch: 2 [3200/10000 (32%)]\tLoss: -488374.687500\n",
      "Train Epoch: 2 [3840/10000 (38%)]\tLoss: -501608.937500\n",
      "Train Epoch: 2 [4480/10000 (45%)]\tLoss: -501940.718750\n",
      "Train Epoch: 2 [5120/10000 (51%)]\tLoss: -488966.062500\n",
      "Train Epoch: 2 [5760/10000 (57%)]\tLoss: -502535.781250\n",
      "Train Epoch: 2 [6400/10000 (64%)]\tLoss: -492725.031250\n",
      "Train Epoch: 2 [7040/10000 (70%)]\tLoss: -493210.656250\n",
      "Train Epoch: 2 [7680/10000 (76%)]\tLoss: -509431.468750\n",
      "Train Epoch: 2 [8320/10000 (83%)]\tLoss: -507372.375000\n",
      "Train Epoch: 2 [8960/10000 (89%)]\tLoss: -525019.500000\n",
      "Train Epoch: 2 [9600/10000 (96%)]\tLoss: -483426.593750\n",
      "\n",
      "Test set: Average loss: -8032.6788, Accuracy: 0/10000 (0%)\n",
      "\n",
      "Train Epoch: 3 [0/10000 (0%)]\tLoss: -512031.218750\n",
      "Train Epoch: 3 [640/10000 (6%)]\tLoss: -499209.843750\n",
      "Train Epoch: 3 [1280/10000 (13%)]\tLoss: -503626.093750\n",
      "Train Epoch: 3 [1920/10000 (19%)]\tLoss: -505670.437500\n",
      "Train Epoch: 3 [2560/10000 (25%)]\tLoss: -504704.468750\n",
      "Train Epoch: 3 [3200/10000 (32%)]\tLoss: -500988.500000\n",
      "Train Epoch: 3 [3840/10000 (38%)]\tLoss: -511974.937500\n",
      "Train Epoch: 3 [4480/10000 (45%)]\tLoss: -505896.750000\n",
      "Train Epoch: 3 [5120/10000 (51%)]\tLoss: -506290.000000\n",
      "Train Epoch: 3 [5760/10000 (57%)]\tLoss: -512449.187500\n",
      "Train Epoch: 3 [6400/10000 (64%)]\tLoss: -505965.062500\n",
      "Train Epoch: 3 [7040/10000 (70%)]\tLoss: -525475.812500\n",
      "Train Epoch: 3 [7680/10000 (76%)]\tLoss: -523391.000000\n",
      "Train Epoch: 3 [8320/10000 (83%)]\tLoss: -512767.656250\n",
      "Train Epoch: 3 [8960/10000 (89%)]\tLoss: -529280.500000\n",
      "Train Epoch: 3 [9600/10000 (96%)]\tLoss: -507020.593750\n",
      "\n",
      "Test set: Average loss: -8049.1951, Accuracy: 0/10000 (0%)\n",
      "\n",
      "Train Epoch: 4 [0/10000 (0%)]\tLoss: -508132.875000\n",
      "Train Epoch: 4 [640/10000 (6%)]\tLoss: -489214.093750\n",
      "Train Epoch: 4 [1280/10000 (13%)]\tLoss: -513642.093750\n",
      "Train Epoch: 4 [1920/10000 (19%)]\tLoss: -509093.562500\n",
      "Train Epoch: 4 [2560/10000 (25%)]\tLoss: -495398.406250\n",
      "Train Epoch: 4 [3200/10000 (32%)]\tLoss: -521217.218750\n",
      "Train Epoch: 4 [3840/10000 (38%)]\tLoss: -521752.875000\n",
      "Train Epoch: 4 [4480/10000 (45%)]\tLoss: -479033.062500\n"
     ]
    }
   ],
   "source": [
    "model = SBVAE(k=20).to(device)\n",
    "optimizer = optim.Adam(model.parameters(), lr=1e-3)\n",
    "\n",
    "\n",
    "scheduler = StepLR(optimizer, step_size=1)\n",
    "for epoch in range(1, 14 + 1):\n",
    "    model.trains(device, train_loader, optimizer, epoch)\n",
    "    model.tests(device, test_loader)\n",
    "    scheduler.step()"
   ]
  },
  {
   "cell_type": "code",
   "execution_count": null,
   "metadata": {},
   "outputs": [],
   "source": []
  },
  {
   "cell_type": "code",
   "execution_count": null,
   "metadata": {},
   "outputs": [],
   "source": []
  },
  {
   "cell_type": "code",
   "execution_count": null,
   "metadata": {},
   "outputs": [],
   "source": []
  },
  {
   "cell_type": "code",
   "execution_count": null,
   "metadata": {},
   "outputs": [],
   "source": []
  }
 ],
 "metadata": {
  "kernelspec": {
   "display_name": "Python 3",
   "language": "python",
   "name": "python3"
  },
  "language_info": {
   "codemirror_mode": {
    "name": "ipython",
    "version": 3
   },
   "file_extension": ".py",
   "mimetype": "text/x-python",
   "name": "python",
   "nbconvert_exporter": "python",
   "pygments_lexer": "ipython3",
   "version": "3.6.9"
  }
 },
 "nbformat": 4,
 "nbformat_minor": 4
}
