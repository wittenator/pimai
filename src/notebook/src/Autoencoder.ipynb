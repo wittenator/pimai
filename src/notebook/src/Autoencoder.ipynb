{
 "cells": [
  {
   "cell_type": "markdown",
   "metadata": {
    "colab_type": "text",
    "id": "view-in-github"
   },
   "source": [
    "<a href=\"https://colab.research.google.com/github/wittenator/pimai/blob/master/src/notebook/src/Autoencoder.ipynb\" target=\"_parent\"><img src=\"https://colab.research.google.com/assets/colab-badge.svg\" alt=\"Open In Colab\"/></a>"
   ]
  },
  {
   "cell_type": "code",
   "execution_count": 1,
   "metadata": {
    "colab": {
     "base_uri": "https://localhost:8080/",
     "height": 678
    },
    "colab_type": "code",
    "id": "90gWsaxMXxiK",
    "outputId": "b00c326d-06a0-4298-c0a4-7cdb6104d426"
   },
   "outputs": [],
   "source": [
    "try:\n",
    "  from google.colab import files\n",
    "  !pip install torch torchvision skorch\n",
    "  !pip install hypertools\n",
    "  colab = True\n",
    "except:\n",
    "  colab = False"
   ]
  },
  {
   "cell_type": "code",
   "execution_count": null,
   "metadata": {
    "colab": {},
    "colab_type": "code",
    "id": "qKO0SRbJUyAm"
   },
   "outputs": [],
   "source": []
  },
  {
   "cell_type": "code",
   "execution_count": 2,
   "metadata": {
    "colab": {
     "base_uri": "https://localhost:8080/",
     "height": 54
    },
    "colab_type": "code",
    "id": "0TPMgseDXxiZ",
    "outputId": "3c1f1725-286e-4b6c-df3d-3fe5c516d23b"
   },
   "outputs": [
    {
     "name": "stderr",
     "output_type": "stream",
     "text": [
      "/opt/conda/lib/python3.6/site-packages/sklearn/utils/deprecation.py:144: FutureWarning: The sklearn.metrics.scorer module is  deprecated in version 0.22 and will be removed in version 0.24. The corresponding classes / functions should instead be imported from sklearn.metrics. Anything that cannot be imported from sklearn.metrics is now part of the private API.\n",
      "  warnings.warn(message, FutureWarning)\n"
     ]
    }
   ],
   "source": [
    "import argparse\n",
    "import torch\n",
    "import torch.nn as nn\n",
    "import torch.nn.functional as F\n",
    "import torch.optim as optim\n",
    "import torchvision\n",
    "from torchvision import datasets, transforms\n",
    "from torch.optim.lr_scheduler import StepLR\n",
    "from datetime import datetime\n",
    "from scipy.signal import sawtooth\n",
    "from multiprocessing import cpu_count\n",
    "\n",
    "from torch.utils.tensorboard import SummaryWriter\n",
    "from torch.utils.data import Subset, DataLoader\n",
    "\n",
    "from torch.distributions import *\n",
    "\n",
    "import skorch\n",
    "import numpy as np\n",
    "import hypertools as hyp\n",
    "import matplotlib.pyplot as plt\n",
    "\n",
    "%load_ext tensorboard\n",
    "%matplotlib inline\n",
    "#torch.autograd.set_detect_anomaly(True)"
   ]
  },
  {
   "cell_type": "code",
   "execution_count": null,
   "metadata": {
    "colab": {},
    "colab_type": "code",
    "id": "efqgd7inU34K"
   },
   "outputs": [],
   "source": []
  },
  {
   "cell_type": "markdown",
   "metadata": {
    "colab_type": "text",
    "id": "xaYNKNJqXxip"
   },
   "source": [
    "## Dataset"
   ]
  },
  {
   "cell_type": "code",
   "execution_count": 3,
   "metadata": {
    "colab": {},
    "colab_type": "code",
    "id": "koWH_sFdXxit"
   },
   "outputs": [],
   "source": [
    "use_cuda = torch.cuda.is_available()\n",
    "device = torch.device(\"cuda\" if use_cuda else \"cpu\")\n",
    "\n",
    "kwargs = {'num_workers': cpu_count(), 'pin_memory': True} if use_cuda else {}\n",
    "\n",
    "mnist_train = datasets.MNIST('/data', train=True, download=True, transform=transforms.Compose([transforms.ToTensor()]))\n",
    "mnist_test = datasets.MNIST('/data', train=False, transform=transforms.Compose([transforms.ToTensor()]))\n",
    "\n",
    "prob = 0.05\n",
    "train_occluded = np.array([1] * int(len(mnist_train)*prob) + [0] * int((1-prob)*len(mnist_train)))\n",
    "test_occluded = np.array([1] * int(len(mnist_test)*prob) + [0] * int((1-prob)*len(mnist_test)))\n",
    "np.random.shuffle(train_occluded)\n",
    "np.random.shuffle(test_occluded)\n",
    "\n",
    "\n",
    "mnist_train_occluded =datasets.MNIST('/data', train=True, download=True, transform=transforms.Compose([transforms.ToTensor()]))\n",
    "mnist_train_occluded.targets[train_occluded] = -1\n",
    "mnist_test_occluded = datasets.MNIST('/data', train=False, transform=transforms.Compose([transforms.ToTensor()]))\n",
    "mnist_test_occluded.targets[test_occluded] = -1\n",
    "\n",
    "\n",
    "\n",
    "train_loader = DataLoader(mnist_train, batch_size=128, shuffle=True, **kwargs)\n",
    "test_loader = DataLoader(mnist_test, batch_size=1000, shuffle=True, **kwargs)\n",
    "\n",
    "train_loader_occluded = DataLoader(mnist_train_occluded, batch_size=128, shuffle=True, **kwargs)\n",
    "test_loader_occluded = DataLoader(mnist_test_occluded, batch_size=1000, shuffle=True, **kwargs)\n"
   ]
  },
  {
   "cell_type": "code",
   "execution_count": null,
   "metadata": {
    "colab": {},
    "colab_type": "code",
    "id": "c2jSEPBnU5p0"
   },
   "outputs": [],
   "source": []
  },
  {
   "cell_type": "markdown",
   "metadata": {
    "colab_type": "text",
    "id": "dbmJnimKXxi3"
   },
   "source": [
    "## Generic autoencoder class"
   ]
  },
  {
   "cell_type": "code",
   "execution_count": 4,
   "metadata": {
    "colab": {},
    "colab_type": "code",
    "id": "9vnseljiXxi6"
   },
   "outputs": [],
   "source": [
    "class Autoencoder(nn.Module):\n",
    "    def __init__(self):\n",
    "        super(Autoencoder, self).__init__()\n",
    "        now = datetime.now()\n",
    "        current_time = now.strftime(\"%Y%m%d-%H%M%S\")\n",
    "        self.writer = SummaryWriter(log_dir=\"/data/runs/\"+current_time)\n",
    "        self.embeddings = []\n",
    "        self.embedding_labels =[]\n",
    "    \n",
    "    def trains(self, device, train_loader, optimizer, epoch, epochs):\n",
    "        self.train()\n",
    "        loss_sum = 0\n",
    "        for batch_idx, (data, target) in enumerate(train_loader):\n",
    "            data, target = data.to(device), target.to(device)\n",
    "            optimizer.zero_grad()\n",
    "            loss = self.compute_loss_train(data, target, epoch, epochs)\n",
    "            loss.backward()\n",
    "            optimizer.step()\n",
    "            loss_sum += loss.item()\n",
    "            if batch_idx % 10 == 0:\n",
    "                print('Train Epoch: {} [{}/{} ({:.0f}%)]\\tLoss: {:.6f}'.format(\n",
    "                    epoch, batch_idx * len(data), len(train_loader.dataset),\n",
    "                    100. * batch_idx / len(train_loader), loss.item()))\n",
    "            self.writer.add_scalar('Loss/train', loss.item(), epoch*len(train_loader)+batch_idx)\n",
    "            \n",
    "    def tests(self, device, test_loader, epoch, epochs):\n",
    "        self.eval()\n",
    "        test_loss = 0\n",
    "        recon = 0\n",
    "        with torch.no_grad():\n",
    "            for data, target in test_loader:\n",
    "                data, target = data.to(device), target.to(device)\n",
    "                loss, output = self.compute_loss_test(data, target, epoch, epochs)\n",
    "                test_loss += loss\n",
    "                recon += F.binary_cross_entropy_with_logits(output, data.view(-1, 784), reduction='none').sum(axis=1).mean()\n",
    "\n",
    "        test_loss /= len(test_loader.dataset)\n",
    "        recon /= len(test_loader.dataset)\n",
    "\n",
    "        print('\\nTest set: Average loss: {:.4f}, Reconstruction error: {}\\n'.format(\n",
    "            test_loss, recon))\n",
    "        \n",
    "    def add_embedding(self, loader):\n",
    "        with torch.no_grad():\n",
    "            labels = []\n",
    "            embs = []\n",
    "            for data, label in loader:\n",
    "                data, label = data.to(device), label.to(device)\n",
    "                labels.append(label)\n",
    "                _, a, b, *rest = self(data)\n",
    "                emb = self.reparameterize(a,b)\n",
    "                embs.append(emb)\n",
    "            self.embeddings.append(torch.cat(tuple(embs), dim=0).cpu().numpy())\n",
    "            self.embedding_labels = torch.cat(tuple(labels), dim=0).cpu().numpy()\n",
    "            \n",
    "    def visualize_embeddings(self, epoch):\n",
    "        hyp.plot(self.embeddings[epoch], '.', hue=self.embedding_labels, reduce='TSNE', ndims=2, save_path=f'/data/visualizations/{self.__class__.__name__}-{datetime.now().strftime(\"%Y%m%d-%H%M%S\")}.svg' if not colab else None)"
   ]
  },
  {
   "cell_type": "markdown",
   "metadata": {
    "colab_type": "text",
    "id": "GWmNtPJBXxjS"
   },
   "source": [
    "## Gaussian Variational Autoencoder"
   ]
  },
  {
   "cell_type": "code",
   "execution_count": 5,
   "metadata": {
    "colab": {},
    "colab_type": "code",
    "id": "fz2yfQy7XxjW"
   },
   "outputs": [],
   "source": [
    "class VAE(Autoencoder):\n",
    "    def __init__(self, k=20):\n",
    "        super(VAE, self).__init__()\n",
    "        \n",
    "        self.conv1 = nn.Conv2d(1, 32, 3, 1)\n",
    "        self.conv2 = nn.Conv2d(32, 64, 3, 1)\n",
    "        self.dropout1 = nn.Dropout2d(0.25)\n",
    "        self.dropout2 = nn.Dropout2d(0.5)\n",
    "\n",
    "        self.fc1 = nn.Linear(784, 400)\n",
    "        self.fc21 = nn.Linear(400, k)\n",
    "        self.fc22 = nn.Linear(400, k)\n",
    "        self.fc3 = nn.Linear(k, 400)\n",
    "        self.fc4 = nn.Linear(400, 784)\n",
    "\n",
    "    def encode(self, x):\n",
    "        #x = self.conv1(x)\n",
    "        #x = F.relu(x)\n",
    "        #x = self.conv2(x)\n",
    "        #x = F.max_pool2d(x, 2)\n",
    "        #x = self.dropout1(x)\n",
    "        x = torch.flatten(x, 1)\n",
    "        h1 = F.relu(self.fc1(x))\n",
    "        return self.fc21(h1), self.fc22(h1)\n",
    "\n",
    "    def reparameterize(self, mu, logvar):\n",
    "        std = torch.exp(0.5*logvar)\n",
    "        eps = torch.randn_like(std)\n",
    "        return mu + eps*std\n",
    "\n",
    "    def decode(self, z):\n",
    "        h3 = F.relu(self.fc3(z))\n",
    "        return torch.sigmoid(self.fc4(h3))\n",
    "\n",
    "    def forward(self, x):\n",
    "        mu, logvar = self.encode(x)\n",
    "        z = self.reparameterize(mu, logvar)\n",
    "        return self.decode(z), mu, logvar\n",
    "    \n",
    "    def loss_function(self, recon_x, x, mu, logvar):\n",
    "        BCE = F.binary_cross_entropy(recon_x, x.view(-1, 784), reduction='sum')\n",
    "\n",
    "        # see Appendix B from VAE paper:\n",
    "        # Kingma and Welling. Auto-Encoding Variational Bayes. ICLR, 2014\n",
    "        # https://arxiv.org/abs/1312.6114\n",
    "        # 0.5 * sum(1 + log(sigma^2) - mu^2 - sigma^2)\n",
    "        KLD = -0.5 * torch.sum(1 + logvar - mu.pow(2) - logvar.exp())\n",
    "\n",
    "        return BCE + KLD\n",
    "    \n",
    "    def compute_loss_train(self, data, target, epoch, epochs):\n",
    "        recon_batch, mu, logvar = self(data)\n",
    "        return self.loss_function(recon_batch, data, mu, logvar)\n",
    "    \n",
    "    def compute_loss_test(self, data, target, epoch, epochs):\n",
    "        recon_batch, mu, logvar = self(data)\n",
    "        return self.loss_function(recon_batch, data, mu, logvar).item(), recon_batch  # sum up batch loss"
   ]
  },
  {
   "cell_type": "code",
   "execution_count": null,
   "metadata": {
    "colab": {},
    "colab_type": "code",
    "id": "bzWadNqn2EdJ"
   },
   "outputs": [],
   "source": [
    "sample = torch.randn(64, 20).to(device)\n",
    "sample = vae.decode(sample).reshape(64, 28, 28).cpu().detach().numpy()\n",
    "f, axarr = plt.subplots(8,8)\n",
    "for i in range(64):\n",
    "  axarr[i//8,i%8].imshow(sample[i])"
   ]
  },
  {
   "cell_type": "markdown",
   "metadata": {
    "colab_type": "text",
    "id": "YnhhJ8F5Xxjv"
   },
   "source": [
    "## Stick-breaking process"
   ]
  },
  {
   "cell_type": "code",
   "execution_count": 6,
   "metadata": {
    "colab": {},
    "colab_type": "code",
    "id": "7P-mNDsMXxjz"
   },
   "outputs": [],
   "source": [
    "def stickbreakingprocess(a, b):\n",
    "    eps = 10*torch.finfo(torch.float).eps #smalles representable number such that 1.0 + eps != 1.0\n",
    "    batch_size = a.size()[0]\n",
    "    \n",
    "    uniform_samples = Uniform(torch.tensor([eps]), torch.tensor([1.0-eps])).rsample(a.size()).squeeze().to(device) if not use_cuda else torch.cuda.FloatTensor(a.size(0), a.size(1)).uniform_().clamp(eps, 1.0-eps)\n",
    "    exp_a = torch.reciprocal(a) #returns a new tensor with the reciprocal of the elements of input: out_i = 1/input_i\n",
    "    exp_b = torch.reciprocal(b)\n",
    "    #value for Kumaraswamy distribution\n",
    "    km = (1- uniform_samples.pow(exp_b) + eps).pow(exp_a)\n",
    "    \n",
    "    #no Nans are allowed in the matrix\n",
    "    #assert not torch.isnan(km).any().item()\n",
    "    \n",
    "    # concatenates the given sequence of seq tensors in the given dimension. All tensors must either have the same shape (except in the concatenating dimension) or be empty.\n",
    "    cumprods = torch.cat((torch.ones([batch_size, 1], device=device), torch.cumprod(1-km, axis=1)), dim=1)\n",
    "    sticks = cumprods[:,:-1]*km # cumulative product of elements along a given axis\n",
    "    sticks[:, -1] = 1- sticks[:, :-1].sum(axis=1) \n",
    "    return sticks"
   ]
  },
  {
   "cell_type": "code",
   "execution_count": 7,
   "metadata": {
    "colab": {
     "base_uri": "https://localhost:8080/",
     "height": 52
    },
    "colab_type": "code",
    "id": "ziPKTj5dXxj4",
    "outputId": "be037056-4f97-4076-de96-7e7da0f7c520"
   },
   "outputs": [
    {
     "data": {
      "text/plain": [
       "tensor([1., 1., 1., 1., 1., 1., 1., 1., 1., 1.])"
      ]
     },
     "execution_count": 7,
     "metadata": {},
     "output_type": "execute_result"
    }
   ],
   "source": [
    "stickbreakingprocess(torch.rand(10,20).to(device), torch.rand(10,20).to(device)).sum(axis=1)"
   ]
  },
  {
   "cell_type": "markdown",
   "metadata": {
    "colab_type": "text",
    "id": "QheULZUTXxkB"
   },
   "source": [
    "## Stick-breaking Autoencoder"
   ]
  },
  {
   "cell_type": "code",
   "execution_count": 11,
   "metadata": {
    "colab": {},
    "colab_type": "code",
    "id": "5Qp8w_wAXxkC"
   },
   "outputs": [],
   "source": [
    "class SBVAE(Autoencoder):\n",
    "    def __init__(self, k):\n",
    "        super(SBVAE, self).__init__()\n",
    "        self.k = k\n",
    "\n",
    "        self.fc1 = nn.Linear(784, 400)\n",
    "        self.fc21 = nn.Linear(400, self.k)\n",
    "        self.fc22 = nn.Linear(400, self.k)\n",
    "        \n",
    "        \n",
    "        self.fc3 = nn.Linear(self.k, 400)\n",
    "        self.fc4 = nn.Linear(400, 784)\n",
    "\n",
    "        self.prior_alpha = torch.Tensor([1]).to(device)\n",
    "        self.prior_beta = torch.Tensor([5]).to(device)\n",
    "\n",
    "    def encode(self, x):\n",
    "        x = torch.flatten(x, 1)\n",
    "        h1 = F.leaky_relu(self.fc1(x))\n",
    "        return F.softplus(self.fc21(h1)), F.softplus(self.fc22(h1))\n",
    "\n",
    "    def reparameterize(self, a, b):\n",
    "        eps = 10*torch.finfo(torch.float).eps #smalles representable number such that 1.0 + eps != 1.0\n",
    "        batch_size = a.size()[0]\n",
    "        \n",
    "        uniform_samples = Uniform(torch.tensor([eps]), torch.tensor([1.0-eps])).rsample(a.size()).squeeze().to(device) if not use_cuda else torch.cuda.FloatTensor(a.size(0), a.size(1)).uniform_().clamp(eps, 1.0-eps)\n",
    "        exp_a = torch.reciprocal(a) #returns a new tensor with the reciprocal of the elements of input: out_i = 1/input_i\n",
    "        exp_b = torch.reciprocal(b)\n",
    "        #value for Kumaraswamy distribution\n",
    "        km = (1- uniform_samples.pow(exp_b) + eps).pow(exp_a)\n",
    "        \n",
    "        #no Nans are allowed in the matrix\n",
    "        #assert not torch.isnan(km).any().item()\n",
    "        \n",
    "        # concatenates the given sequence of seq tensors in the given dimension. All tensors must either have the same shape (except in the concatenating dimension) or be empty.\n",
    "        cumprods = torch.cat((torch.ones([batch_size, 1], device=device), torch.cumprod(1-km, axis=1)), dim=1)\n",
    "        sticks = cumprods[:,:-1]*km # cumulative product of elements along a given axis\n",
    "        sticks[:, -1] = 1- sticks[:, :-1].sum(axis=1) \n",
    "        return sticks\n",
    "\n",
    "    def decode(self, z):\n",
    "        h3 = F.leaky_relu(self.fc3(z))\n",
    "        return self.fc4(h3)\n",
    "\n",
    "    def forward(self, x):\n",
    "        a, b = self.encode(x)\n",
    "        z = self.reparameterize(a, b)\n",
    "        return self.decode(z), a, b\n",
    "    \n",
    "    def Beta(self, a,b):\n",
    "        return torch.exp(torch.lgamma(a) + torch.lgamma(b) - torch.lgamma(a+b))\n",
    "\n",
    "    def KLD(self, a,b, prior_alpha, prior_beta):\n",
    "        ab = (a*b)\n",
    "        kl = 1/(1+ab) * self.Beta(1/a, b)\n",
    "        kl += 1/(2+ab) * self.Beta(2/a, b)\n",
    "        kl += 1/(3+ab) * self.Beta(3/a, b)\n",
    "        kl += 1/(4+ab) * self.Beta(4/a, b)\n",
    "        kl += 1/(5+ab) * self.Beta(5/a, b)\n",
    "        kl += 1/(6+ab) * self.Beta(6/a, b)\n",
    "        kl += 1/(7+ab) * self.Beta(7/a, b)\n",
    "        kl += 1/(8+ab) * self.Beta(8/a, b)\n",
    "        kl += 1/(9+ab) * self.Beta(9/a, b)\n",
    "        kl += 1/(10+ab) * self.Beta(10/a, b)\n",
    "        kl *= (prior_beta-1)*b\n",
    "                                                                                                                                            \n",
    "        kl += (a-prior_alpha)/a * (-np.euler_gamma - torch.digamma(b) - 1/b) #T.psi(self.posterior_b)                                                                                        \n",
    "\n",
    "        # add normalization constants                                                                                                                                                                \n",
    "        kl += torch.log(ab) + torch.log(self.Beta(prior_alpha, prior_beta))\n",
    "\n",
    "        # final term                                                                                                                                                                                 \n",
    "        kl += -(b-1)/b \n",
    "\n",
    "        return kl\n",
    "    \n",
    "    def loss_function(self, recon_x, x, a, b, prior_alpha, prior_beta, epoch, epochs):\n",
    "        period = 20\n",
    "        BCE = F.binary_cross_entropy_with_logits(recon_x, x.view(-1, 784), reduction='none')\n",
    "        KLD = self.KLD(a,b, prior_alpha, prior_beta)\n",
    "\n",
    "        return len(train_loader)/a.size(0) * torch.mean(1/period*(epoch%period)*KLD.sum(axis=1) + BCE.sum(axis=1))\n",
    "    \n",
    "    def compute_loss_train(self, data, target, epoch, epochs):\n",
    "        recon_batch, a, b = self(data)\n",
    "        return self.loss_function(recon_batch, data, a, b, self.prior_alpha, self.prior_beta, epoch, epochs)\n",
    "    \n",
    "    def compute_loss_test(self, data, target, epoch, epochs):\n",
    "        recon_batch, a, b = self(data)\n",
    "        return self.loss_function(recon_batch, data, a, b, self.prior_alpha, self.prior_beta, epoch, epochs).item(), recon_batch "
   ]
  },
  {
   "cell_type": "code",
   "execution_count": 17,
   "metadata": {
    "colab": {
     "base_uri": "https://localhost:8080/",
     "height": 1000
    },
    "colab_type": "code",
    "id": "HmNemMwJXxkI",
    "outputId": "93be7919-eed5-4d97-8d14-22b032019990"
   },
   "outputs": [
    {
     "data": {
      "text/plain": [
       "<All keys matched successfully>"
      ]
     },
     "execution_count": 17,
     "metadata": {},
     "output_type": "execute_result"
    }
   ],
   "source": [
    "sbvae = SBVAE(k=50).to(device)\n",
    "sbvae.load_state_dict(torch.load(\"/data/sbvae-1000-50--cycle--50--km-.pth\", map_location=device))"
   ]
  },
  {
   "cell_type": "code",
   "execution_count": null,
   "metadata": {
    "colab": {
     "base_uri": "https://localhost:8080/",
     "height": 297
    },
    "colab_type": "code",
    "id": "n5aDfJvHXxkT",
    "outputId": "a78c8b2d-7353-480a-b77d-6f053f87986f"
   },
   "outputs": [],
   "source": [
    "with torch.no_grad():\n",
    "    labels = []\n",
    "    embs = []\n",
    "    for data, label in test_loader:\n",
    "        data, label = data.to(device), label.to(device)\n",
    "        labels.append(label)\n",
    "        _, a, b, *rest = sbvae(data)\n",
    "        emb = sbvae.reparameterize(a,b)\n",
    "        embs.append(emb)\n",
    "    emb = (torch.cat(tuple(embs), dim=0).cpu().numpy())\n",
    "    labels = torch.cat(tuple(labels), dim=0).cpu().numpy()\n",
    "    hyp.plot(emb, '.', hue=labels, reduce='TSNE', ndims=2, save_path=f'/data/sbvae-{datetime.now().strftime(\"%Y%m%d-%H%M%S\")}.svg' if not colab else None)"
   ]
  },
  {
   "cell_type": "code",
   "execution_count": null,
   "metadata": {
    "colab": {
     "base_uri": "https://localhost:8080/",
     "height": 269
    },
    "colab_type": "code",
    "id": "pJstAFVO7Lls",
    "outputId": "5beb4bd8-8633-4138-dcb0-2632fb2c75e4"
   },
   "outputs": [],
   "source": [
    "from torch.distributions.beta import Beta\n",
    "sample = Beta(torch.tensor([1.0]), torch.tensor([5.0])).rsample([64,50]).squeeze().to(device)\n",
    "cumprods = torch.cat((torch.ones([64, 1], device=device), torch.cumprod(1-sample, axis=1)), dim=1)\n",
    "sample = cumprods[:,:-1]*sample\n",
    "sample[:, -1] = 1- sample[:, :-1].sum(axis=1)\n",
    "sample = torch.sigmoid(sbvae.decode(sample)).reshape(64, 28, 28).cpu().detach().numpy()\n",
    "f, axarr = plt.subplots(8,8)\n",
    "for i in range(64):\n",
    "  axarr[i//8,i%8].imshow(sample[i])"
   ]
  },
  {
   "cell_type": "code",
   "execution_count": 16,
   "metadata": {},
   "outputs": [
    {
     "name": "stdout",
     "output_type": "stream",
     "text": [
      "[0.8124, 0.7996333333333333, 0.7835833333333333]\n"
     ]
    }
   ],
   "source": [
    "from sklearn.neighbors import KNeighborsClassifier\n",
    "from sklearn.model_selection import train_test_split\n",
    "from sklearn.metrics import accuracy_score\n",
    "\n",
    "def test_vae_acc(weights_path):\n",
    "    sbvae = SBVAE(k=50).to(device)\n",
    "    sbvae.load_state_dict(torch.load(weights_path, map_location=device))\n",
    "    with torch.no_grad():\n",
    "        labels = []\n",
    "        embs = []\n",
    "        for data, label in train_loader:\n",
    "            data, label = data.to(device), label.to(device)\n",
    "            labels.append(label)\n",
    "            _, a, b, *rest = sbvae(data)\n",
    "            emb = sbvae.reparameterize(a,b)\n",
    "            embs.append(emb)\n",
    "        emb_train = (torch.cat(tuple(embs), dim=0).cpu().numpy())\n",
    "        labels_train = torch.cat(tuple(labels), dim=0).cpu().numpy()\n",
    "\n",
    "    with torch.no_grad():\n",
    "        labels = []\n",
    "        embs = []\n",
    "        for data, label in train_loader:\n",
    "            data, label = data.to(device), label.to(device)\n",
    "            labels.append(label)\n",
    "            _, a, b, *rest = sbvae(data)\n",
    "            emb = sbvae.reparameterize(a,b)\n",
    "            embs.append(emb)\n",
    "        emb_test = (torch.cat(tuple(embs), dim=0).cpu().numpy())\n",
    "        labels_test = torch.cat(tuple(labels), dim=0).cpu().numpy()\n",
    "\n",
    "    accs = []\n",
    "    for n in [3,5,10]:\n",
    "        knn = KNeighborsClassifier(n_neighbors=n)\n",
    "        knn.fit(emb_train,labels_train)\n",
    "        accs.append(1-accuracy_score(labels_test, knn.predict(emb_test)))\n",
    "    \n",
    "    return accs\n",
    "\n",
    "print(test_vae_acc(\"/data/sbvae-1000-50--none--50--km-.pth\"))"
   ]
  },
  {
   "cell_type": "code",
   "execution_count": null,
   "metadata": {
    "colab": {},
    "colab_type": "code",
    "id": "xA5Txpn2Djld"
   },
   "outputs": [],
   "source": [
    "class SSSBVAE(SBVAE):\n",
    "    def __init__(self, k):\n",
    "        super(SSSBVAE, self).__init__(k)\n",
    "  \n",
    "        self.fc23 = nn.Linear(400, 10)\n",
    "        self.fc3 = nn.Linear(self.k + 10, 400)\n",
    "\n",
    "    def encode(self, x):\n",
    "        x = torch.flatten(x, 1)\n",
    "        h1 = F.relu(self.fc1(x))\n",
    "        return F.softplus(self.fc21(h1)), F.softplus(self.fc22(h1)), F.softplus(self.fc23(h1))\n",
    "\n",
    "    def forward(self, x):\n",
    "        a, b, y = self.encode(x)\n",
    "        z = self.reparameterize(a, b)\n",
    "        z = torch.cat((z, y/torch.norm(y, p=1)),dim=1)\n",
    "        return self.decode(z), a, b, y/torch.norm(y, p=1)\n",
    "    \n",
    "    def loss_function(self, recon_x, x, a, b, y, y_true, prior_alpha, prior_beta, epoch, epochs):\n",
    "        period = 20\n",
    "        BCE = F.binary_cross_entropy_with_logits(recon_x, x.view(-1, 784), reduction='none')\n",
    "        KLD = self.KLD(a,b, prior_alpha, prior_beta)\n",
    "\n",
    "        log_y = F.binary_cross_entropy(y, torch.eye(10, device=device)[y_true], reduction='none').sum(axis=1)\n",
    "        ent_y = Categorical(probs=y).entropy()\n",
    "\n",
    "        y_recon = torch.where(y_true !=-1, log_y, ent_y)\n",
    "\n",
    "        eye_batch = torch.eye(10, device=device).unsqueeze(0).expand(a.size(0), -1, -1)\n",
    "        y_batch = y.unsqueeze(2).expand(-1, -1, 10)\n",
    "\n",
    "        factor = torch.where(y_true !=-1, torch.ones(a.size(0), device=device), F.binary_cross_entropy(y_batch, eye_batch, reduction='none').sum(axis=(1,2))) \n",
    "\n",
    "        term = 1/period*(epoch%period)*KLD.sum(axis=1) + BCE.sum(axis=1)*factor + y_recon\n",
    "\n",
    "        return len(train_loader)/a.size(0) * (torch.mean(term))\n",
    "\n",
    "    def compute_loss_train(self, data, target, epoch, epochs):\n",
    "        recon_batch, a, b, y = self(data)\n",
    "        return self.loss_function(recon_batch, data, a, b, y, target, self.prior_alpha, self.prior_beta, epoch, epochs)\n",
    "    \n",
    "    def compute_loss_test(self, data, target, epoch, epochs):\n",
    "        recon_batch, a, b, y = self(data)\n",
    "        return self.loss_function(recon_batch, data, a, b, y, target, self.prior_alpha, self.prior_beta, epoch, epochs).item(), recon_batch "
   ]
  },
  {
   "cell_type": "code",
   "execution_count": null,
   "metadata": {
    "colab": {
     "base_uri": "https://localhost:8080/",
     "height": 304
    },
    "colab_type": "code",
    "id": "A3Hpkmer3wEB",
    "outputId": "7ad06cf8-56c7-4dd8-ce3a-69339bf8bab5"
   },
   "outputs": [
    {
     "name": "stdout",
     "output_type": "stream",
     "text": [
      "[8 2 4 6 0 1 4 9 9 9 4 4 0 9 1 2 5 2 4 2 9 8 2 0 5 2 0 4 6 1 7 7 1 9 9 5 4\n",
      " 8 2 3 6 8 6 7 4 6 0 5 0 0 5 7 6 7 9 9 5 4 3 2 2 3 2 3]\n"
     ]
    },
    {
     "data": {
      "image/png": "[encoded data removed]",
      "text/plain": [
       "<Figure size 432x288 with 64 Axes>"
      ]
     },
     "metadata": {
      "tags": []
     },
     "output_type": "display_data"
    }
   ],
   "source": [
    "sample = Beta(torch.tensor([1.0]), torch.tensor([5.0])).rsample([64,50]).squeeze().to(device)\n",
    "nums = np.random.randint(10, size=64)\n",
    "onehot = torch.eye(10, device=device)[nums]\n",
    "\n",
    "cumprods = torch.cat((torch.ones([64, 1], device=device), torch.cumprod(1-sample, axis=1)), dim=1)\n",
    "sample = cumprods[:,:-1]*sample\n",
    "sample[:, -1] = 1- sample[:, :-1].sum(axis=1)\n",
    "print(nums)\n",
    "inputs = torch.cat((sample, onehot), dim=1)\n",
    "sample = torch.sigmoid(sssbvae.decode(inputs)).reshape(64, 28, 28).cpu().detach().numpy()\n",
    "f, axarr = plt.subplots(8,8)\n",
    "for i in range(64):\n",
    "  axarr[i//8,i%8].imshow(sample[i])"
   ]
  }
 ],
 "metadata": {
  "accelerator": "GPU",
  "colab": {
   "include_colab_link": true,
   "name": "Autoencoder.ipynb",
   "provenance": [],
   "toc_visible": true
  },
  "kernelspec": {
   "display_name": "Python 3",
   "language": "python",
   "name": "python3"
  },
  "language_info": {
   "codemirror_mode": {
    "name": "ipython",
    "version": 3
   },
   "file_extension": ".py",
   "mimetype": "text/x-python",
   "name": "python",
   "nbconvert_exporter": "python",
   "pygments_lexer": "ipython3",
   "version": "3.6.9"
  },
  "pycharm": {
   "stem_cell": {
    "cell_type": "raw",
    "source": [],
    "metadata": {
     "collapsed": false
    }
   }
  }
 },
 "nbformat": 4,
 "nbformat_minor": 4
}